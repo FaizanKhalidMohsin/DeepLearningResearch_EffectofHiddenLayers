{
 "cells": [
  {
   "cell_type": "code",
   "execution_count": null,
   "metadata": {
    "id": "W7V8OgArFtqN"
   },
   "outputs": [],
   "source": [
    "import pandas as pd\n",
    "from sklearn.preprocessing import StandardScaler\n",
    "from sklearn.neighbors import KNeighborsRegressor\n",
    "from sklearn.metrics import mean_squared_error\n",
    "from sklearn.ensemble import RandomForestRegressor\n",
    "from sklearn.svm import SVR\n",
    "import matplotlib.pyplot as plt\n",
    "import xgboost as xgb\n",
    "from math import sqrt"
   ]
  },
  {
   "cell_type": "code",
   "execution_count": null,
   "metadata": {
    "id": "xuLnFtZjFL7n"
   },
   "outputs": [],
   "source": [
    "# load data\n",
    "X_train = pd.read_csv('/content/X_train.csv')\n",
    "X_train_1 = pd.read_csv('/content/X_train_1.csv')\n",
    "X_train_2 = pd.read_csv('/content/X_train_2.csv')\n",
    "X_train_3 = pd.read_csv('/content/X_train_3.csv')\n",
    "\n",
    "X_test = pd.read_csv('/content/X_test.csv')\n",
    "X_test_1 = pd.read_csv('/content/X_test_1.csv')\n",
    "X_test_2 = pd.read_csv('/content/X_test_2.csv')\n",
    "X_test_3 = pd.read_csv('/content/X_test_3.csv')\n",
    "\n",
    "y_train = pd.read_csv('/content/y_train.csv')\n",
    "y_test = pd.read_csv('/content/y_test.csv')"
   ]
  },
  {
   "cell_type": "code",
   "execution_count": null,
   "metadata": {
    "id": "TP-18h69KSSr"
   },
   "outputs": [],
   "source": [
    "# standardize the predictors\n",
    "scaler = StandardScaler()\n",
    "\n",
    "scaler.fit(X_train)\n",
    "X_train_s = scaler.transform(X_train)\n",
    "X_test_s = scaler.transform(X_test)\n",
    "\n",
    "scaler.fit(X_train_1)\n",
    "X_train_1s = scaler.transform(X_train_1)\n",
    "X_test_1s = scaler.transform(X_test_1)\n",
    "\n",
    "scaler.fit(X_train_2)\n",
    "X_train_2s = scaler.transform(X_train_2)\n",
    "X_test_2s = scaler.transform(X_test_2)\n",
    "\n",
    "scaler.fit(X_train_3)\n",
    "X_train_3s = scaler.transform(X_train_3)\n",
    "X_test_3s = scaler.transform(X_test_3)\n"
   ]
  },
  {
   "cell_type": "markdown",
   "metadata": {
    "id": "kIo0mQXtJKT_"
   },
   "source": [
    "## KNN"
   ]
  },
  {
   "cell_type": "markdown",
   "metadata": {
    "id": "WdY7VbRMLLlt"
   },
   "source": [
    "For the raw data"
   ]
  },
  {
   "cell_type": "code",
   "execution_count": null,
   "metadata": {
    "colab": {
     "base_uri": "https://localhost:8080/"
    },
    "id": "AxMhJBY5Q3QB",
    "outputId": "078f426d-d04c-44ff-82e9-94af2ebfdd9e"
   },
   "outputs": [
    {
     "name": "stdout",
     "output_type": "stream",
     "text": [
      "1530478.2365651855\n"
     ]
    }
   ],
   "source": [
    "# construct a KNN model\n",
    "knn = KNeighborsRegressor(n_neighbors = 5)\n",
    "# train the KNN model\n",
    "knn.fit(X_train_s, y_train)\n",
    "# test the KNN model\n",
    "y_pred = knn.predict(X_test_s)\n",
    "knn_rmse = sqrt(mean_squared_error(y_test, y_pred))\n",
    "print(knn_rmse)"
   ]
  },
  {
   "cell_type": "markdown",
   "metadata": {
    "id": "KvVEaUkVLOkr"
   },
   "source": [
    "For the autoencoder-screened data"
   ]
  },
  {
   "cell_type": "code",
   "execution_count": null,
   "metadata": {
    "colab": {
     "base_uri": "https://localhost:8080/"
    },
    "id": "vajo8GiVLIMy",
    "outputId": "c8db8d96-41ef-4fe0-d021-7d7d2499bc51"
   },
   "outputs": [
    {
     "name": "stdout",
     "output_type": "stream",
     "text": [
      "1753199.8954469652\n"
     ]
    }
   ],
   "source": [
    "# construct a KNN model\n",
    "knn = KNeighborsRegressor(n_neighbors = 3)\n",
    "# train the KNN model\n",
    "knn.fit(X_train_1s, y_train)\n",
    "# test the KNN model\n",
    "y_pred = knn.predict(X_test_1s)\n",
    "knn_rmse_1 = sqrt(mean_squared_error(y_test, y_pred))\n",
    "print(knn_rmse_1)"
   ]
  },
  {
   "cell_type": "markdown",
   "metadata": {
    "id": "63P91L81LmPE"
   },
   "source": [
    "For the PCA-screened data"
   ]
  },
  {
   "cell_type": "code",
   "execution_count": null,
   "metadata": {
    "colab": {
     "base_uri": "https://localhost:8080/"
    },
    "id": "GC0nsAlcLvA5",
    "outputId": "674f9bdd-5c42-475b-ca2c-4af0d18f4072"
   },
   "outputs": [
    {
     "name": "stdout",
     "output_type": "stream",
     "text": [
      "1834022.4608449594\n"
     ]
    }
   ],
   "source": [
    "# construct a KNN model\n",
    "knn = KNeighborsRegressor(n_neighbors = 3)\n",
    "# train the KNN model\n",
    "knn.fit(X_train_2s, y_train)\n",
    "# test the KNN model\n",
    "y_pred = knn.predict(X_test_2s)\n",
    "knn_rmse_2 = sqrt(mean_squared_error(y_test, y_pred))\n",
    "print(knn_rmse_2)"
   ]
  },
  {
   "cell_type": "markdown",
   "metadata": {
    "id": "uKbIZf0VL9IZ"
   },
   "source": [
    "For the TSNE-screened data"
   ]
  },
  {
   "cell_type": "code",
   "execution_count": null,
   "metadata": {
    "colab": {
     "base_uri": "https://localhost:8080/"
    },
    "id": "xc9V1kyGMApq",
    "outputId": "a36d89ba-4aa5-4d81-b941-5b32cb9109fc"
   },
   "outputs": [
    {
     "name": "stdout",
     "output_type": "stream",
     "text": [
      "2630882.6624900587\n"
     ]
    }
   ],
   "source": [
    "# construct a KNN model\n",
    "knn = KNeighborsRegressor(n_neighbors = 3)\n",
    "# train the KNN model\n",
    "knn.fit(X_train_3s, y_train)\n",
    "# test the KNN model\n",
    "y_pred = knn.predict(X_test_3s)\n",
    "knn_rmse_3 = sqrt(mean_squared_error(y_test, y_pred))\n",
    "print(knn_rmse_3)"
   ]
  },
  {
   "cell_type": "markdown",
   "metadata": {
    "id": "PvYSvZ4aMVh_"
   },
   "source": [
    "## Random Forest"
   ]
  },
  {
   "cell_type": "markdown",
   "metadata": {
    "id": "guzzMSZqMYz9"
   },
   "source": [
    "For the raw data"
   ]
  },
  {
   "cell_type": "code",
   "execution_count": null,
   "metadata": {
    "colab": {
     "base_uri": "https://localhost:8080/"
    },
    "id": "mJji-UTZSWGF",
    "outputId": "039d3605-9167-4e42-a9aa-704e03b978bf"
   },
   "outputs": [
    {
     "name": "stderr",
     "output_type": "stream",
     "text": [
      "/usr/local/lib/python3.7/dist-packages/ipykernel_launcher.py:4: DataConversionWarning: A column-vector y was passed when a 1d array was expected. Please change the shape of y to (n_samples,), for example using ravel().\n",
      "  after removing the cwd from sys.path.\n"
     ]
    },
    {
     "name": "stdout",
     "output_type": "stream",
     "text": [
      "1198378.5760373385\n"
     ]
    }
   ],
   "source": [
    "# construct a RF model\n",
    "rf = RandomForestRegressor(n_estimators=100, bootstrap=True, max_features='sqrt')\n",
    "# train the RF model\n",
    "rf.fit(X_train, y_train)\n",
    "# test the RF model\n",
    "y_pred = rf.predict(X_test)\n",
    "rf_rmse = sqrt(mean_squared_error(y_test, y_pred))\n",
    "print(rf_rmse)"
   ]
  },
  {
   "cell_type": "markdown",
   "metadata": {
    "id": "LbNHT5-iMnkj"
   },
   "source": [
    "For the auto-encoder screened data"
   ]
  },
  {
   "cell_type": "code",
   "execution_count": null,
   "metadata": {
    "colab": {
     "base_uri": "https://localhost:8080/"
    },
    "id": "RDTEKjsRMrq7",
    "outputId": "e066b810-7aff-4238-a1ad-0407aa02a2d2"
   },
   "outputs": [
    {
     "name": "stderr",
     "output_type": "stream",
     "text": [
      "/usr/local/lib/python3.7/dist-packages/ipykernel_launcher.py:4: DataConversionWarning: A column-vector y was passed when a 1d array was expected. Please change the shape of y to (n_samples,), for example using ravel().\n",
      "  after removing the cwd from sys.path.\n"
     ]
    },
    {
     "name": "stdout",
     "output_type": "stream",
     "text": [
      "2159229.309263919\n"
     ]
    }
   ],
   "source": [
    "# construct a RF model\n",
    "rf = RandomForestRegressor(n_estimators=500, bootstrap=True, max_features='sqrt')\n",
    "# train the RF model\n",
    "rf.fit(X_train_1, y_train)\n",
    "# test the RF model\n",
    "y_pred = rf.predict(X_test_1)\n",
    "rf_rmse_1 = sqrt(mean_squared_error(y_test, y_pred))\n",
    "print(rf_rmse_1)"
   ]
  },
  {
   "cell_type": "code",
   "execution_count": null,
   "metadata": {
    "id": "-I250Aq5Nth-"
   },
   "outputs": [],
   "source": [
    "For the PCA screened data"
   ]
  },
  {
   "cell_type": "code",
   "execution_count": null,
   "metadata": {
    "colab": {
     "base_uri": "https://localhost:8080/"
    },
    "id": "loKIRPKAOHMh",
    "outputId": "47667ffe-f7ab-4432-b422-50421d82ee49"
   },
   "outputs": [
    {
     "name": "stderr",
     "output_type": "stream",
     "text": [
      "/usr/local/lib/python3.7/dist-packages/ipykernel_launcher.py:4: DataConversionWarning: A column-vector y was passed when a 1d array was expected. Please change the shape of y to (n_samples,), for example using ravel().\n",
      "  after removing the cwd from sys.path.\n"
     ]
    },
    {
     "name": "stdout",
     "output_type": "stream",
     "text": [
      "1899634.0751297802\n"
     ]
    }
   ],
   "source": [
    "# construct a RF model\n",
    "rf = RandomForestRegressor(n_estimators=500, bootstrap=True, max_features='sqrt')\n",
    "# train the RF model\n",
    "rf.fit(X_train_2, y_train)\n",
    "# test the RF model\n",
    "y_pred = rf.predict(X_test_2)\n",
    "rf_rmse_2 = sqrt(mean_squared_error(y_test, y_pred))\n",
    "print(rf_rmse_2)"
   ]
  },
  {
   "cell_type": "markdown",
   "metadata": {
    "id": "1PerXS_FOT5f"
   },
   "source": [
    "For the TSNE screened data"
   ]
  },
  {
   "cell_type": "code",
   "execution_count": null,
   "metadata": {
    "colab": {
     "base_uri": "https://localhost:8080/"
    },
    "id": "kFaQLIcgOYPZ",
    "outputId": "94a11003-872e-4ace-a5e7-4a4ed3d0b282"
   },
   "outputs": [
    {
     "name": "stderr",
     "output_type": "stream",
     "text": [
      "/usr/local/lib/python3.7/dist-packages/ipykernel_launcher.py:4: DataConversionWarning: A column-vector y was passed when a 1d array was expected. Please change the shape of y to (n_samples,), for example using ravel().\n",
      "  after removing the cwd from sys.path.\n"
     ]
    },
    {
     "name": "stdout",
     "output_type": "stream",
     "text": [
      "2537980.7502101455\n"
     ]
    }
   ],
   "source": [
    "# construct a RF model\n",
    "rf = RandomForestRegressor(n_estimators=500, bootstrap=True, max_features='sqrt')\n",
    "# train the RF model\n",
    "rf.fit(X_train_3, y_train)\n",
    "# test the RF model\n",
    "y_pred = rf.predict(X_test_3)\n",
    "rf_rmse_3 = sqrt(mean_squared_error(y_test, y_pred))\n",
    "print(rf_rmse_3)"
   ]
  },
  {
   "cell_type": "markdown",
   "metadata": {
    "id": "4ACeEI94OfPx"
   },
   "source": [
    "## Support Vector Machine"
   ]
  },
  {
   "cell_type": "markdown",
   "metadata": {
    "id": "hlHVND_yOiu7"
   },
   "source": [
    "For the raw data"
   ]
  },
  {
   "cell_type": "code",
   "execution_count": null,
   "metadata": {
    "colab": {
     "base_uri": "https://localhost:8080/"
    },
    "id": "2JVZRmk6WEfy",
    "outputId": "a140c68d-c986-4d4c-bc2f-d904804e4387"
   },
   "outputs": [
    {
     "name": "stderr",
     "output_type": "stream",
     "text": [
      "/usr/local/lib/python3.7/dist-packages/sklearn/utils/validation.py:760: DataConversionWarning: A column-vector y was passed when a 1d array was expected. Please change the shape of y to (n_samples, ), for example using ravel().\n",
      "  y = column_or_1d(y, warn=True)\n"
     ]
    },
    {
     "name": "stdout",
     "output_type": "stream",
     "text": [
      "1275374.4397565436\n"
     ]
    }
   ],
   "source": [
    "# construct a SVM model\n",
    "svm = SVR(kernel='linear', C=5000)\n",
    "# train the SVM model\n",
    "svm.fit(X_train_s, y_train)\n",
    "# test the SVM model\n",
    "y_pred = svm.predict(X_test_s)\n",
    "svm_rmse = sqrt(mean_squared_error(y_test, y_pred))\n",
    "print(svm_rmse)"
   ]
  },
  {
   "cell_type": "markdown",
   "metadata": {
    "id": "AcqNOOGCO4-Z"
   },
   "source": [
    "For the autoencoder-screened data"
   ]
  },
  {
   "cell_type": "code",
   "execution_count": null,
   "metadata": {
    "colab": {
     "base_uri": "https://localhost:8080/"
    },
    "id": "VBDy0xzvO-Gc",
    "outputId": "edb5af99-bfa4-45b3-f127-4670ba5652ef"
   },
   "outputs": [
    {
     "name": "stderr",
     "output_type": "stream",
     "text": [
      "/usr/local/lib/python3.7/dist-packages/sklearn/utils/validation.py:760: DataConversionWarning: A column-vector y was passed when a 1d array was expected. Please change the shape of y to (n_samples, ), for example using ravel().\n",
      "  y = column_or_1d(y, warn=True)\n"
     ]
    },
    {
     "name": "stdout",
     "output_type": "stream",
     "text": [
      "2176326.713502339\n"
     ]
    }
   ],
   "source": [
    "# construct a SVM model\n",
    "svm = SVR(kernel='linear', C=5000)\n",
    "# train the SVM model\n",
    "svm.fit(X_train_1s, y_train)\n",
    "# test the SVM model\n",
    "y_pred = svm.predict(X_test_1s)\n",
    "svm_rmse_1 = sqrt(mean_squared_error(y_test, y_pred))\n",
    "print(svm_rmse_1)"
   ]
  },
  {
   "cell_type": "markdown",
   "metadata": {
    "id": "sy_NAgRIPEKp"
   },
   "source": [
    "For the PCA-screened data"
   ]
  },
  {
   "cell_type": "code",
   "execution_count": null,
   "metadata": {
    "colab": {
     "base_uri": "https://localhost:8080/"
    },
    "id": "4QXtJrlhPHmj",
    "outputId": "7cc71b20-2083-4957-b530-fb9c7b8b6389"
   },
   "outputs": [
    {
     "name": "stdout",
     "output_type": "stream",
     "text": [
      "1634196.8927090056\n"
     ]
    },
    {
     "name": "stderr",
     "output_type": "stream",
     "text": [
      "/usr/local/lib/python3.7/dist-packages/sklearn/utils/validation.py:760: DataConversionWarning: A column-vector y was passed when a 1d array was expected. Please change the shape of y to (n_samples, ), for example using ravel().\n",
      "  y = column_or_1d(y, warn=True)\n"
     ]
    }
   ],
   "source": [
    "# construct a SVM model\n",
    "svm = SVR(kernel='linear', C=5000)\n",
    "# train the SVM model\n",
    "svm.fit(X_train_2s, y_train)\n",
    "# test the SVM model\n",
    "y_pred = svm.predict(X_test_2s)\n",
    "svm_rmse_2 = sqrt(mean_squared_error(y_test, y_pred))\n",
    "print(svm_rmse_2)"
   ]
  },
  {
   "cell_type": "markdown",
   "metadata": {
    "id": "wgIKGKbSPaTJ"
   },
   "source": [
    "For the TSNE-screened data"
   ]
  },
  {
   "cell_type": "code",
   "execution_count": null,
   "metadata": {
    "colab": {
     "base_uri": "https://localhost:8080/"
    },
    "id": "fpegV2uOPgot",
    "outputId": "66cb6651-4cb4-412b-8d94-26bef6eddc75"
   },
   "outputs": [
    {
     "name": "stdout",
     "output_type": "stream",
     "text": [
      "2598513.474864397\n"
     ]
    },
    {
     "name": "stderr",
     "output_type": "stream",
     "text": [
      "/usr/local/lib/python3.7/dist-packages/sklearn/utils/validation.py:760: DataConversionWarning: A column-vector y was passed when a 1d array was expected. Please change the shape of y to (n_samples, ), for example using ravel().\n",
      "  y = column_or_1d(y, warn=True)\n"
     ]
    }
   ],
   "source": [
    "# construct a SVM model\n",
    "svm = SVR(kernel='linear', C=5000)\n",
    "# train the SVM model\n",
    "svm.fit(X_train_3s, y_train)\n",
    "# test the SVM model\n",
    "y_pred = svm.predict(X_test_3s)\n",
    "svm_rmse_3 = sqrt(mean_squared_error(y_test, y_pred))\n",
    "print(svm_rmse_3)"
   ]
  },
  {
   "cell_type": "markdown",
   "metadata": {
    "id": "tWW2DwiEPxPU"
   },
   "source": [
    "## XGboost"
   ]
  },
  {
   "cell_type": "markdown",
   "metadata": {
    "id": "mjJrwM1kP0_3"
   },
   "source": [
    "For the raw data"
   ]
  },
  {
   "cell_type": "code",
   "execution_count": null,
   "metadata": {
    "colab": {
     "base_uri": "https://localhost:8080/"
    },
    "id": "i7Dixw0irsd5",
    "outputId": "406421dd-46d0-4744-f435-93660d919930"
   },
   "outputs": [
    {
     "name": "stdout",
     "output_type": "stream",
     "text": [
      "1186600.2122943923\n"
     ]
    }
   ],
   "source": [
    "# construct a xgboost model\n",
    "xgbooster = xgb.XGBRegressor(objective = 'reg:squarederror', colsample_bytree = 0.3,\n",
    "                             learning_rate = 0.1, max_depth = 10, alpha = 10,\n",
    "                             n_estimators = 50)\n",
    "# train the xgboost model \n",
    "xgbooster.fit(X_train, y_train)\n",
    "# test the xgboost model\n",
    "y_pred = xgbooster.predict(X_test)\n",
    "xgb_rmse = sqrt(mean_squared_error(y_test, y_pred))\n",
    "print(xgb_rmse)"
   ]
  },
  {
   "cell_type": "markdown",
   "metadata": {
    "id": "A4ofKiDmP-i7"
   },
   "source": [
    "For the autoencoder-screened data"
   ]
  },
  {
   "cell_type": "code",
   "execution_count": null,
   "metadata": {
    "colab": {
     "base_uri": "https://localhost:8080/"
    },
    "id": "su0rsEXkQBR7",
    "outputId": "acd04caf-d646-42d4-fced-8aff109f5567"
   },
   "outputs": [
    {
     "name": "stdout",
     "output_type": "stream",
     "text": [
      "1753686.4236967447\n"
     ]
    }
   ],
   "source": [
    "xgbooster = xgb.XGBRegressor(objective = 'reg:squarederror', colsample_bytree = 0.3,\n",
    "                             learning_rate = 0.1, max_depth = 10, alpha = 10,\n",
    "                             n_estimators = 50)\n",
    "# train the xgboost model \n",
    "xgbooster.fit(X_train_1, y_train)\n",
    "# test the xgboost model\n",
    "y_pred = xgbooster.predict(X_test_1)\n",
    "xgb_rmse_1 = sqrt(mean_squared_error(y_test, y_pred))\n",
    "print(xgb_rmse_1)"
   ]
  },
  {
   "cell_type": "markdown",
   "metadata": {
    "id": "W9dsMkBuQHpJ"
   },
   "source": [
    "For the PCA screened data"
   ]
  },
  {
   "cell_type": "code",
   "execution_count": null,
   "metadata": {
    "colab": {
     "base_uri": "https://localhost:8080/"
    },
    "id": "IjG2T8YdQN7p",
    "outputId": "ee345e5f-342d-4913-bd72-fc5b39ca6b7a"
   },
   "outputs": [
    {
     "name": "stdout",
     "output_type": "stream",
     "text": [
      "1837180.0948902403\n"
     ]
    }
   ],
   "source": [
    "xgbooster = xgb.XGBRegressor(objective = 'reg:squarederror', colsample_bytree = 0.3,\n",
    "                             learning_rate = 0.1, max_depth = 10, alpha = 10,\n",
    "                             n_estimators = 50)\n",
    "# train the xgboost model \n",
    "xgbooster.fit(X_train_2, y_train)\n",
    "# test the xgboost model\n",
    "y_pred = xgbooster.predict(X_test_2)\n",
    "xgb_rmse_2 = sqrt(mean_squared_error(y_test, y_pred))\n",
    "print(xgb_rmse_2)"
   ]
  },
  {
   "cell_type": "markdown",
   "metadata": {
    "id": "I7xQdadMQql4"
   },
   "source": [
    "For the TSNE selected data"
   ]
  },
  {
   "cell_type": "code",
   "execution_count": null,
   "metadata": {
    "colab": {
     "base_uri": "https://localhost:8080/"
    },
    "id": "WmGPZTN4QUSZ",
    "outputId": "f52aa836-06ae-4182-f45b-9a7d7503ea66"
   },
   "outputs": [
    {
     "name": "stdout",
     "output_type": "stream",
     "text": [
      "[22:49:21] WARNING: /workspace/src/objective/regression_obj.cu:152: reg:linear is now deprecated in favor of reg:squarederror.\n",
      "2852343.975026908\n"
     ]
    }
   ],
   "source": [
    "xgbooster = xgb.XGBRegressor(objective = 'reg:linear', colsample_bytree = 0.3,\n",
    "                             learning_rate = 0.1, max_depth = 10, alpha = 10,\n",
    "                             n_estimators = 50)\n",
    "# train the xgboost model \n",
    "xgbooster.fit(X_train_3, y_train)\n",
    "# test the xgboost model\n",
    "y_pred = xgbooster.predict(X_test_3)\n",
    "xgb_rmse_3 = sqrt(mean_squared_error(y_test, y_pred))\n",
    "print(xgb_rmse_3)"
   ]
  },
  {
   "cell_type": "code",
   "execution_count": null,
   "metadata": {
    "id": "IpfeqfWShx_c"
   },
   "outputs": [],
   "source": [
    "# plot the results\n",
    "fig = plt.figure()\n",
    "ax = fig.add_axes([0,0, 1,2])\n",
    "models = ['KNN', 'RF', 'SVM', 'XGboost']\n",
    "mse = [knn_mse, rf_mse, svm_mse, xgb_mse]\n",
    "ax.bar(models, mse)\n",
    "ax.set_xlabel('Regression Models')\n",
    "ax.set_ylabel('Scaled Mean Square Error')\n",
    "ax.set_title('The Performance of traditional ML Models')\n",
    "plt.show()"
   ]
  }
 ],
 "metadata": {
  "colab": {
   "collapsed_sections": [],
   "name": "Baseline ML Models.ipynb",
   "provenance": []
  },
  "kernelspec": {
   "display_name": "Python 3",
   "language": "python",
   "name": "python3"
  },
  "language_info": {
   "codemirror_mode": {
    "name": "ipython",
    "version": 3
   },
   "file_extension": ".py",
   "mimetype": "text/x-python",
   "name": "python",
   "nbconvert_exporter": "python",
   "pygments_lexer": "ipython3",
   "version": "3.8.5"
  }
 },
 "nbformat": 4,
 "nbformat_minor": 4
}
