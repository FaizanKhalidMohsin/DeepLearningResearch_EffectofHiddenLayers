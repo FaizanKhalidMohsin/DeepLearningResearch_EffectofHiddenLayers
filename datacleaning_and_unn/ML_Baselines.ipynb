{
 "cells": [
  {
   "cell_type": "code",
   "execution_count": 17,
   "metadata": {
    "id": "W7V8OgArFtqN"
   },
   "outputs": [],
   "source": [
    "import pandas as pd\n",
    "from sklearn.preprocessing import StandardScaler\n",
    "from sklearn.neighbors import KNeighborsRegressor\n",
    "from sklearn.metrics import mean_squared_error\n",
    "from sklearn.ensemble import RandomForestRegressor\n",
    "from sklearn.svm import SVR\n",
    "import matplotlib.pyplot as plt\n",
    "import xgboost as xgb\n",
    "import numpy as np"
   ]
  },
  {
   "cell_type": "code",
   "execution_count": 2,
   "metadata": {
    "id": "xuLnFtZjFL7n"
   },
   "outputs": [],
   "source": [
    "# load data\n",
    "X_train = pd.read_csv('../Data/X_train.csv')\n",
    "X_test = pd.read_csv('../Data/X_test.csv')\n",
    "y_train = pd.read_csv('../Data/y_train.csv')\n",
    "y_test = pd.read_csv('../Data/y_test.csv')"
   ]
  },
  {
   "cell_type": "code",
   "execution_count": 3,
   "metadata": {
    "id": "i8TJ8G-mHJXv"
   },
   "outputs": [],
   "source": [
    "# delete the ID colomns\n",
    "X_train = X_train.drop(X_train.columns[0], axis = 1)\n",
    "X_test = X_test.drop(X_test.columns[0], axis = 1)\n",
    "y_train = y_train.drop(y_train.columns[0], axis = 1)\n",
    "y_test = y_test.drop(y_test.columns[0], axis = 1)"
   ]
  },
  {
   "cell_type": "code",
   "execution_count": 4,
   "metadata": {
    "id": "TP-18h69KSSr"
   },
   "outputs": [],
   "source": [
    "# standardize the predictors\n",
    "scaler = StandardScaler()\n",
    "scaler.fit(X_train)\n",
    "X_train_scaled = scaler.transform(X_train)\n",
    "X_test_scaled = scaler.transform(X_test)"
   ]
  },
  {
   "cell_type": "code",
   "execution_count": 6,
   "metadata": {
    "id": "AxMhJBY5Q3QB"
   },
   "outputs": [
    {
     "name": "stdout",
     "output_type": "stream",
     "text": [
      "883366141113.1847\n",
      "939875.5987433575\n"
     ]
    }
   ],
   "source": [
    "# construct a KNN model\n",
    "knn = KNeighborsRegressor(n_neighbors = 6)\n",
    "# train the KNN model\n",
    "knn.fit(X_train_scaled, y_train)\n",
    "# test the KNN model\n",
    "y_pred = knn.predict(X_test_scaled)\n",
    "knn_mse = mean_squared_error(y_test, y_pred)\n",
    "#print(knn_mse)\n"
   ]
  },
  {
   "cell_type": "code",
   "execution_count": 7,
   "metadata": {},
   "outputs": [
    {
     "name": "stdout",
     "output_type": "stream",
     "text": [
      "939875.5987433575\n"
     ]
    }
   ],
   "source": [
    "print(knn_mse**.5)"
   ]
  },
  {
   "cell_type": "code",
   "execution_count": 8,
   "metadata": {
    "id": "mJji-UTZSWGF"
   },
   "outputs": [
    {
     "name": "stderr",
     "output_type": "stream",
     "text": [
      "<ipython-input-8-a9030231e8c0>:4: DataConversionWarning: A column-vector y was passed when a 1d array was expected. Please change the shape of y to (n_samples,), for example using ravel().\n",
      "  rf.fit(X_train, y_train)\n"
     ]
    }
   ],
   "source": [
    "# construct a RF model\n",
    "rf = RandomForestRegressor(n_estimators=100, bootstrap=True, max_features='sqrt')\n",
    "# train the RF model\n",
    "rf.fit(X_train, y_train)\n",
    "# test the RF model\n",
    "y_pred = rf.predict(X_test)\n",
    "rf_mse = mean_squared_error(y_test, y_pred)\n"
   ]
  },
  {
   "cell_type": "code",
   "execution_count": 9,
   "metadata": {},
   "outputs": [
    {
     "name": "stdout",
     "output_type": "stream",
     "text": [
      "786077.1552912716\n"
     ]
    }
   ],
   "source": [
    "print(rf_mse**.5)"
   ]
  },
  {
   "cell_type": "code",
   "execution_count": 10,
   "metadata": {
    "id": "2JVZRmk6WEfy"
   },
   "outputs": [
    {
     "name": "stderr",
     "output_type": "stream",
     "text": [
      "C:\\Users\\cubes\\anaconda3\\lib\\site-packages\\sklearn\\utils\\validation.py:72: DataConversionWarning: A column-vector y was passed when a 1d array was expected. Please change the shape of y to (n_samples, ), for example using ravel().\n",
      "  return f(**kwargs)\n"
     ]
    }
   ],
   "source": [
    "# construct a SVM model\n",
    "svm = SVR(kernel='linear', C=5000)\n",
    "# train the SVM model\n",
    "svm.fit(X_train_scaled, y_train)\n",
    "# test the SVM model\n",
    "y_pred = svm.predict(X_test_scaled)\n",
    "svm_mse = mean_squared_error(y_test, y_pred)\n"
   ]
  },
  {
   "cell_type": "code",
   "execution_count": 11,
   "metadata": {},
   "outputs": [
    {
     "name": "stdout",
     "output_type": "stream",
     "text": [
      "761672.5450164463\n"
     ]
    }
   ],
   "source": [
    "print(svm_mse**.5)"
   ]
  },
  {
   "cell_type": "code",
   "execution_count": 13,
   "metadata": {
    "id": "i7Dixw0irsd5"
   },
   "outputs": [
    {
     "name": "stdout",
     "output_type": "stream",
     "text": [
      "[11:32:29] WARNING: c:\\ci\\xgboost-split_1619728435298\\work\\src\\objective\\regression_obj.cu:170: reg:linear is now deprecated in favor of reg:squarederror.\n",
      "620978669061.129\n"
     ]
    }
   ],
   "source": [
    "# construct a xgboost model\n",
    "xgbooster = xgb.XGBRegressor(objective = 'reg:linear', colsample_bytree = 0.3,\n",
    "                             learning_rate = 0.1, max_depth = 10, alpha = 10,\n",
    "                             n_estimators = 50)\n",
    "# train the xgboost model \n",
    "xgbooster.fit(X_train, y_train)\n",
    "# test the xgboost model\n",
    "y_pred = xgbooster.predict(X_test)\n",
    "xgb_mse = mean_squared_error(y_test, y_pred)\n",
    "print(xgb_mse)"
   ]
  },
  {
   "cell_type": "code",
   "execution_count": 14,
   "metadata": {},
   "outputs": [
    {
     "name": "stdout",
     "output_type": "stream",
     "text": [
      "788021.9978281882\n"
     ]
    }
   ],
   "source": [
    "print(xgb_mse**.5)"
   ]
  },
  {
   "cell_type": "code",
   "execution_count": 15,
   "metadata": {},
   "outputs": [],
   "source": [
    "mse = [knn_mse, rf_mse, svm_mse, xgb_mse]"
   ]
  },
  {
   "cell_type": "code",
   "execution_count": 18,
   "metadata": {},
   "outputs": [],
   "source": [
    "rmse = np.sqrt(np.array(mse))"
   ]
  },
  {
   "cell_type": "code",
   "execution_count": 19,
   "metadata": {
    "id": "IpfeqfWShx_c"
   },
   "outputs": [
    {
     "data": {
      "image/png": "[encoded data removed]",
      "text/plain": [
       "<Figure size 432x288 with 1 Axes>"
      ]
     },
     "metadata": {
      "needs_background": "light"
     },
     "output_type": "display_data"
    }
   ],
   "source": [
    "# plot the results\n",
    "fig = plt.figure()\n",
    "ax = fig.add_axes([0,0, 1,2])\n",
    "models = ['KNN', 'RF', 'SVM', 'XGboost']\n",
    "mse = [knn_mse, rf_mse, svm_mse, xgb_mse]\n",
    "rmse = np.sqrt(np.array(mse))\n",
    "ax.bar(models, rmse)\n",
    "ax.set_xlabel('Regression Models')\n",
    "ax.set_ylabel('Scaled Mean Square Error')\n",
    "ax.set_title('The Performance of traditional ML Models')\n",
    "plt.show()"
   ]
  },
  {
   "cell_type": "markdown",
   "metadata": {},
   "source": [
    "## Two limitations or two areas of improvement:\n",
    "1. Using the other categorical variables in the data set that are not present in the X_train tests set.\n",
    "2. More importantly, there is no hyperparameter optimization. We can surely, improve results by optimizing hyperparameter search for each Algo. \n",
    "3. Include regularization techniques to improve performance even further. "
   ]
  },
  {
   "cell_type": "code",
   "execution_count": null,
   "metadata": {},
   "outputs": [],
   "source": []
  }
 ],
 "metadata": {
  "colab": {
   "collapsed_sections": [],
   "name": "Baseline ML Models.ipynb",
   "provenance": []
  },
  "kernelspec": {
   "display_name": "Python 3",
   "language": "python",
   "name": "python3"
  },
  "language_info": {
   "codemirror_mode": {
    "name": "ipython",
    "version": 3
   },
   "file_extension": ".py",
   "mimetype": "text/x-python",
   "name": "python",
   "nbconvert_exporter": "python",
   "pygments_lexer": "ipython3",
   "version": "3.8.5"
  }
 },
 "nbformat": 4,
 "nbformat_minor": 4
}
