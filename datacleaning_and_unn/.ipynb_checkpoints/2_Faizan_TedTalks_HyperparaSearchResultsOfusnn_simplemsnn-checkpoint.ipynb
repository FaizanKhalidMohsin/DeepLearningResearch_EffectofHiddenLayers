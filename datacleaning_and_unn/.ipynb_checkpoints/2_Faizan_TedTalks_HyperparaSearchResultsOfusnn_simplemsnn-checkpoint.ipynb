{
 "cells": [
  {
   "cell_type": "markdown",
   "metadata": {},
   "source": [
    "# Deep Learning Models\n",
    "\n"
   ]
  },
  {
   "cell_type": "markdown",
   "metadata": {
    "pycharm": {
     "name": "#%%\n"
    }
   },
   "source": [
    "Importing the data and libraries"
   ]
  },
  {
   "cell_type": "code",
   "execution_count": 2,
   "metadata": {
    "pycharm": {
     "name": "#%%\n"
    }
   },
   "outputs": [],
   "source": [
    "# Loading data and libraries\n",
    "import numpy as np\n",
    "import pandas as pd\n",
    "import datetime\n",
    "import re\n",
    "import matplotlib.pyplot as plt\n",
    "import seaborn as sns\n",
    "from sklearn.feature_extraction.text import CountVectorizer"
   ]
  },
  {
   "cell_type": "code",
   "execution_count": null,
   "metadata": {
    "pycharm": {
     "name": "#%%\n"
    }
   },
   "outputs": [],
   "source": [
    "df = pd.read_csv(\"ted_main.csv\")\n",
    "df.columns"
   ]
  },
  {
   "cell_type": "code",
   "execution_count": null,
   "metadata": {},
   "outputs": [],
   "source": [
    "\n",
    "df = df[['name', 'title', 'description', 'main_speaker', 'speaker_occupation', 'num_speaker', 'duration', 'event', 'film_date', 'published_date', 'comments', 'tags', 'languages', 'ratings', 'related_talks', 'url', 'views']]\n"
   ]
  },
  {
   "cell_type": "code",
   "execution_count": null,
   "metadata": {},
   "outputs": [],
   "source": [
    "\n",
    "import datetime\n",
    "df['film_date'] = df['film_date'].apply(lambda x: datetime.datetime.fromtimestamp( int(x)).strftime('%d-%m-%Y'))\n",
    "df['published_date'] = df['published_date'].apply(lambda x: datetime.datetime.fromtimestamp( int(x)).strftime('%d-%m-%Y'))"
   ]
  },
  {
   "cell_type": "code",
   "execution_count": null,
   "metadata": {},
   "outputs": [],
   "source": [
    "\n",
    "month_order = ['Jan', 'Feb', 'Mar', 'Apr', 'May', 'Jun', 'Jul', 'Aug', 'Sep', 'Oct', 'Nov', 'Dec']\n",
    "day_order = ['Mon', 'Tue', 'Wed', 'Thu', 'Fri', 'Sat', 'Sun']"
   ]
  },
  {
   "cell_type": "code",
   "execution_count": null,
   "metadata": {},
   "outputs": [],
   "source": [
    "df[['event']]"
   ]
  },
  {
   "cell_type": "code",
   "execution_count": null,
   "metadata": {},
   "outputs": [],
   "source": [
    "\n",
    "df['month'] = df['film_date'].apply(lambda x: month_order[int(x.split('-')[1]) - 1])\n",
    "\n",
    "month_df = pd.DataFrame(df['month'].value_counts()).reset_index()\n",
    "month_df.columns = ['month', 'talks']\n"
   ]
  },
  {
   "cell_type": "code",
   "execution_count": null,
   "metadata": {},
   "outputs": [],
   "source": []
  },
  {
   "cell_type": "markdown",
   "metadata": {},
   "source": [
    "# Read in the 'ted' talk data."
   ]
  },
  {
   "cell_type": "code",
   "execution_count": null,
   "metadata": {},
   "outputs": [],
   "source": [
    "\n",
    "ted = pd.read_csv('ted_main.csv')"
   ]
  },
  {
   "cell_type": "code",
   "execution_count": null,
   "metadata": {},
   "outputs": [],
   "source": [
    "# Categorize events into TED and TEDx; exclude those that are non-TED events\n",
    "ted = ted[ted['event'].str[0:3]=='TED'].reset_index()"
   ]
  },
  {
   "cell_type": "code",
   "execution_count": null,
   "metadata": {},
   "outputs": [],
   "source": [
    "ted.loc[:,'event_cat'] = ted['event'].apply(lambda x: 'TEDx' if x[0:4]=='TEDx' else 'TED')\n",
    "print (\"No. of talks remain: \", len(ted))"
   ]
  },
  {
   "cell_type": "markdown",
   "metadata": {},
   "source": [
    "Here, we change the Unix timstamp to human readable date format. Then we extract month and day of week from film date and published date."
   ]
  },
  {
   "cell_type": "code",
   "execution_count": null,
   "metadata": {},
   "outputs": [],
   "source": [
    "\n",
    "ted['film_date'] = ted['film_date'].apply(lambda x: datetime.date.fromtimestamp(int(x)))\n",
    "ted['published_date'] = ted['published_date'].apply(lambda x: datetime.date.fromtimestamp(int(x)))\n",
    "ted['film_month'] = ted['film_date'].apply(lambda x: x.month)\n",
    "ted['pub_month'] = ted['published_date'].apply(lambda x: x.month)\n",
    "ted['film_weekday'] = ted['film_date'].apply(lambda x: x.weekday()) # Monday: 0, Sunday: 6\n",
    "ted['pub_weekday'] = ted['published_date'].apply(lambda x: x.weekday())\n",
    "ted[['film_date','published_date']].head()"
   ]
  },
  {
   "cell_type": "markdown",
   "metadata": {},
   "source": [
    "TED users can give ratings to each talk. There are 14 possible ratings and they will be categorized as positive, negative and neutral:\n",
    "\n",
    "Positive: 'Beautiful', 'Courageous', 'Fascinating', 'Funny', 'Informative', 'Ingenious', 'Inspiring', 'Jaw-dropping', 'Persuasive' Negative: 'Confusing', 'Longwinded', 'Obnoxious', 'Unconvincing' Neutral: 'OK'\n",
    "\n",
    "Here, we define a \"popular\" TED talk by its ratio of positive to negative ratings (which we call it \"popularity ratio\" here). If the popularity ratio is above 5, it is defined as \"Popular\", otherwise it is \"Not Popular\". Transformation is made to avoid \"divided by zero\" error. The following code is adopted from this kernel to convert 'ratings' column (a JSON object) into columns of each rating"
   ]
  },
  {
   "cell_type": "code",
   "execution_count": null,
   "metadata": {},
   "outputs": [],
   "source": [
    "\n",
    "ted['ratings']=ted['ratings'].str.replace(\"'\",'\"')\n",
    "ted=ted.merge(ted.ratings.apply(lambda x: pd.Series(pd.read_json(x)['count'].values,index=pd.read_json(x)['name'])), \n",
    "            left_index=True, right_index=True)"
   ]
  },
  {
   "cell_type": "code",
   "execution_count": null,
   "metadata": {},
   "outputs": [],
   "source": [
    "Positive = ['Beautiful', 'Courageous', 'Fascinating', 'Funny', 'Informative', 'Ingenious', 'Inspiring', 'Jaw-dropping', 'Persuasive']\n",
    "Negative = ['Confusing', 'Longwinded', 'Obnoxious', 'Unconvincing']\n",
    "ted['positive']=ted.loc[:,Positive].sum(axis=1)+1\n",
    "ted['negative']=ted.loc[:,Negative].sum(axis=1)+1\n",
    "ted['pop_ratio']=ted['positive']/ted['negative']\n",
    "ted.loc[:,'Popular'] = ted['pop_ratio'].apply (lambda x: 1 if x >5 else 0)\n",
    "\n",
    "print (\"No. of Not Popular talks: \", len(ted[ted['Popular']==0]))\n",
    "# print (\"Ratio of Popular talks: {:.4f}\".format(len(ted[ted['Popular']==1])/ float(len(ted))))\n",
    "overall_mean_popular = np.mean(ted.Popular)\n",
    "print (\"Ratio of Popular talks: {:.4f}\".format(overall_mean_popular))"
   ]
  },
  {
   "cell_type": "code",
   "execution_count": null,
   "metadata": {},
   "outputs": [],
   "source": [
    "nums = ['comments', 'duration', 'languages', 'num_speaker', 'views']\n",
    "sns.pairplot(ted, vars=nums, hue='Popular', hue_order = [1,0], diag_kind='kde', height=3);"
   ]
  },
  {
   "cell_type": "code",
   "execution_count": null,
   "metadata": {},
   "outputs": [],
   "source": [
    "ratings = ['Funny', 'Beautiful', 'Ingenious', 'Courageous', 'Longwinded', 'Confusing', 'Informative', 'Fascinating', 'Unconvincing', \n",
    "           'Persuasive', 'Jaw-dropping', 'OK', 'Obnoxious', 'Inspiring', 'Popular']\n",
    "plt.figure(figsize=(10,8))\n",
    "sns.heatmap(ted[ratings].corr(), annot=True, cmap='RdBu');"
   ]
  },
  {
   "cell_type": "code",
   "execution_count": null,
   "metadata": {},
   "outputs": [],
   "source": [
    "Then we do count vectorizer on 'speaker_occupation'. Before that, some data cleaning is needed."
   ]
  },
  {
   "cell_type": "code",
   "execution_count": null,
   "metadata": {},
   "outputs": [],
   "source": [
    "\n",
    "ted.loc[:,'occ'] = ted.speaker_occupation.copy()\n",
    "ted.occ = ted.occ.fillna('Unknown')\n",
    "ted.occ = ted.occ.str.replace('singer/songwriter', 'singer, songwriter')\n",
    "ted.occ = ted.occ.str.replace('singer-songwriter', 'singer, songwriter')\n",
    "count_vector2 = CountVectorizer(stop_words='english', min_df=20/len(ted))\n",
    "occ_array = count_vector2.fit_transform(ted.occ).toarray()\n",
    "occ_matrix = pd.DataFrame(occ_array, columns = count_vector2.get_feature_names())\n",
    "all_occ = occ_matrix.columns\n",
    "occ_matrix = pd.concat([occ_matrix, ted.Popular], axis=1)\n",
    "by_occ = dict()\n",
    "for col in all_occ:\n",
    "    by_occ[col]=occ_matrix.groupby(col)['Popular'].mean()[1] - overall_mean_popular\n",
    "occ_rank = pd.DataFrame.from_dict(by_occ, orient='index')\n",
    "occ_rank.columns = ['pop_rate_diff']\n",
    "\n",
    "plt.figure(figsize=(16,7))\n",
    "plt.subplot(121)\n",
    "bar_2 = occ_rank.sort_values(by='pop_rate_diff', ascending=False)[:10]\n",
    "sns.barplot(x=bar_2.pop_rate_diff, y=bar_2.index, color='blue')\n",
    "plt.title('10 Most Popular Occupation Keywords', fontsize=14)\n",
    "plt.xlabel('Ratio of Popular Talk (Net of Mean)')\n",
    "plt.yticks(fontsize=12)\n",
    "plt.subplot(122)\n",
    "bar_1 = occ_rank.sort_values(by='pop_rate_diff')[:10]\n",
    "sns.barplot(x=bar_1.pop_rate_diff, y=bar_1.index, color='red')\n",
    "plt.title('10 Most Unpopular Occupation Keywords', fontsize=14)\n",
    "plt.xlabel('Ratio of Popular Talk (Net of Mean)')\n",
    "plt.yticks(fontsize=12)\n",
    "plt.show()"
   ]
  },
  {
   "cell_type": "code",
   "execution_count": null,
   "metadata": {},
   "outputs": [],
   "source": [
    "print(\"Number of non-Ted talks that we removed were:\", len(df) - len(ted))"
   ]
  },
  {
   "cell_type": "code",
   "execution_count": null,
   "metadata": {},
   "outputs": [],
   "source": []
  },
  {
   "cell_type": "markdown",
   "metadata": {},
   "source": [
    "# Structure of the data"
   ]
  },
  {
   "cell_type": "code",
   "execution_count": null,
   "metadata": {},
   "outputs": [],
   "source": [
    "from scipy.stats import pearsonr\n"
   ]
  },
  {
   "cell_type": "code",
   "execution_count": null,
   "metadata": {},
   "outputs": [],
   "source": [
    "corr, _ = pearsonr(df['comments'], df['views']); corr # As can be seen, not much of a correlation between the two."
   ]
  },
  {
   "cell_type": "code",
   "execution_count": null,
   "metadata": {},
   "outputs": [],
   "source": [
    "# if we include all the talks will the correlation between comments and views increase or decrease?\n",
    "\n",
    "corr, _ = pearsonr(ted['comments'], ted['views']); corr # it decreases!"
   ]
  },
  {
   "cell_type": "markdown",
   "metadata": {},
   "source": [
    "Word Cloud for popular and nonpopular talks."
   ]
  },
  {
   "cell_type": "code",
   "execution_count": null,
   "metadata": {},
   "outputs": [],
   "source": []
  },
  {
   "cell_type": "markdown",
   "metadata": {},
   "source": [
    "\n",
    "Popular classification prediction model.\n",
    "\n",
    "We will build a prediction model to prediction which talks are popular, starting with tags, speaker occupations, title and description. As we are having a problem of highly unbalanced class, we only predict a talk to be 'Popular' if the probability of having a 'Popular' label is above 65%."
   ]
  },
  {
   "cell_type": "code",
   "execution_count": null,
   "metadata": {},
   "outputs": [],
   "source": []
  },
  {
   "cell_type": "markdown",
   "metadata": {},
   "source": [
    "# Building a simple shallow neural network to predict views"
   ]
  },
  {
   "cell_type": "markdown",
   "metadata": {},
   "source": [
    "# Univariable Shallow network"
   ]
  },
  {
   "cell_type": "markdown",
   "metadata": {},
   "source": [
    "Use comments as input and views as output."
   ]
  },
  {
   "cell_type": "code",
   "execution_count": null,
   "metadata": {},
   "outputs": [],
   "source": [
    "df_comments = df['comments']; df_views = df['views']"
   ]
  },
  {
   "cell_type": "code",
   "execution_count": null,
   "metadata": {},
   "outputs": [],
   "source": [
    "df_comments"
   ]
  },
  {
   "cell_type": "code",
   "execution_count": null,
   "metadata": {},
   "outputs": [],
   "source": [
    "df_views"
   ]
  },
  {
   "cell_type": "markdown",
   "metadata": {},
   "source": [
    "Split the data in train and test sets"
   ]
  },
  {
   "cell_type": "code",
   "execution_count": null,
   "metadata": {},
   "outputs": [],
   "source": [
    "from sklearn.model_selection import train_test_split\n",
    "\n",
    "x_train, x_test, y_train, y_test = train_test_split(df_comments, df_views, test_size=0.2, random_state=1)\n",
    "\n",
    "for set in [X_train, X_test, y_train, y_test]:\n",
    "    print( len(set))"
   ]
  },
  {
   "cell_type": "code",
   "execution_count": null,
   "metadata": {},
   "outputs": [],
   "source": []
  },
  {
   "cell_type": "code",
   "execution_count": null,
   "metadata": {},
   "outputs": [],
   "source": [
    "#pip install --upgrade keras\n",
    "#pip install --upgrade tensorflow\n",
    "\n",
    "#Import required packages\n",
    "\n",
    "from keras.models import Sequential\n",
    "from keras.layers import Dense, Activation\n",
    "from keras.layers import Dropout\n",
    "from keras.metrics import MeanSquaredError, RootMeanSquaredError, MeanAbsolutePercentageError, MeanAbsoluteError, MeanSquaredLogarithmicError, CosineSimilarity\n",
    "from keras import metrics\n",
    "\n",
    "import tensorflow as tf\n",
    "hello = tf.constant('Hello, TensorFlow!')\n",
    "\n",
    "print(hello)"
   ]
  },
  {
   "cell_type": "code",
   "execution_count": null,
   "metadata": {},
   "outputs": [],
   "source": []
  },
  {
   "cell_type": "code",
   "execution_count": null,
   "metadata": {},
   "outputs": [],
   "source": [
    "# Model 1 (Do not run this cell already have the results saved.)\n",
    "\n",
    "# Specify the modelmodel = Sequential()\n",
    "model_1_neuron = Sequential()\n",
    "model_1_neuron.add(Dense(1, input_dim = 1, activation = \"relu\"))\n",
    "model_1_neuron.compile(loss='mse', optimizer='adam', \n",
    "          #metrics = [\"mse\", \"RMSE\", \"mape\"])\n",
    "            metrics = [ MeanSquaredError(), RootMeanSquaredError(),MeanAbsoluteError(), MeanAbsolutePercentageError(), MeanSquaredLogarithmicError()])\n",
    "\n",
    "\n",
    "# Fit the model, or in other words, train the model. \n",
    "\n",
    "#Train the model and make predictions\n",
    "history = model_1_neuron.fit(X_train, y_train, epochs=100 , batch_size=32, verbose = 2, validation_split=0.2)\n",
    "score = model_1_neuron.evaluate(X_test, y_test, verbose = 2)\n",
    "\n",
    "#Make predictions from the trained model\n",
    "predictions = model_1_neuron.predict(X_test)\n",
    "\n",
    "#print performance and loss\n",
    "print(\"Performance on Test set:\", zip(model_1_neuron.metrics_names, score))"
   ]
  },
  {
   "cell_type": "code",
   "execution_count": null,
   "metadata": {},
   "outputs": [],
   "source": [
    "# Manually get rmse\n",
    "(np.mean((np.array(y_test) - predictions)**2))**.5 # we got 2545996.0559998746 04 April 2021"
   ]
  },
  {
   "cell_type": "code",
   "execution_count": null,
   "metadata": {},
   "outputs": [],
   "source": [
    "\n",
    "# \"Plot Loss\"\n",
    "plt.plot(history.history['loss'])\n",
    "plt.plot(history.history['val_loss'])\n",
    "plt.title('model loss')\n",
    "plt.ylabel('loss')\n",
    "plt.xlabel('epoch')\n",
    "plt.legend(['train', 'validation'], loc='upper right')\n",
    "plt.show()"
   ]
  },
  {
   "cell_type": "code",
   "execution_count": null,
   "metadata": {},
   "outputs": [],
   "source": [
    "# \"Plot Loss\"\n",
    "#plt.plot(history.history['MeanSquaredError'])\n",
    "#plt.plot(history.history['val_loss'])\n",
    "#plt.title('model Metrics')\n",
    "#plt.ylabel('loss')\n",
    "#plt.xlabel('epoch')\n",
    "#plt.legend(['train', 'validation'], loc='upper right')\n",
    "#plt.show()\n",
    "\n",
    "# plot metrics\n",
    "plt.plot(history.history['mean_squared_error'])\n",
    "#plt.plot(history.history['mean_absolute_error'])\n",
    "#plt.plot(history.history['mean_absolute_percentage_error'])\n",
    "#pyplot.plot(history.history['cosine_proximity'])\n",
    "plt.show()"
   ]
  },
  {
   "cell_type": "code",
   "execution_count": null,
   "metadata": {},
   "outputs": [],
   "source": [
    "# plot metrics\n",
    "plt.plot(history.history['mean_absolute_error'])\n",
    "plt.show()"
   ]
  },
  {
   "cell_type": "code",
   "execution_count": null,
   "metadata": {},
   "outputs": [],
   "source": [
    "\n",
    "# plot metrics\n",
    "plt.plot(history.history['mean_squared_logarithmic_error'])\n",
    "plt.show()"
   ]
  },
  {
   "cell_type": "code",
   "execution_count": null,
   "metadata": {},
   "outputs": [],
   "source": [
    "# plot metrics\n",
    "plt.plot(history.history['mean_squared_error'])\n",
    "plt.plot(history.history['mean_absolute_error'])\n",
    "plt.plot(history.history['mean_squared_logarithmic_error'])\n",
    "plt.show()"
   ]
  },
  {
   "cell_type": "code",
   "execution_count": null,
   "metadata": {},
   "outputs": [],
   "source": []
  },
  {
   "cell_type": "markdown",
   "metadata": {},
   "source": [
    "# Code from book\n",
    "\n"
   ]
  },
  {
   "cell_type": "code",
   "execution_count": null,
   "metadata": {},
   "outputs": [],
   "source": [
    "# Model 2\n",
    "\n",
    "def train_given_optimiser(optimiser):\n",
    "    \n",
    " model = Sequential()\n",
    " model.add(Dense(2, input_dim=1))\n",
    " model.add(Activation(activation='relu'))\n",
    "\n",
    "\n",
    " model.compile(optimizer=optimiser, loss='msle', metrics=['mse', 'mape', RootMeanSquaredError(), 'msle' ])\n",
    "    \n",
    " score = model.evaluate(X_train,y_train, verbose=2)\n",
    "\n",
    " print (\"Optimiser: \", optimiser)\n",
    " print (\"Before Training:\", list(zip(model.metrics_names, score)))\n",
    " model.fit(X_train,y_train, epochs=10, batch_size=32, verbose=0)\n",
    " score = model.evaluate(X_test, y_test, verbose=0)\n",
    " print (\"After Training:\", list(zip(model.metrics_names, score)))\n",
    " print (score)\n",
    " print (model.metrics_names)\n",
    " print (\" \\n \")\n",
    "    \n",
    "# Running function for different optimizers \n",
    "train_given_optimiser(\"sgd\")\n",
    "train_given_optimiser(\"rmsprop\")\n",
    "train_given_optimiser(\"adagrad\")\n",
    "train_given_optimiser(\"adadelta\")\n",
    "train_given_optimiser(\"adam\")\n",
    "train_given_optimiser(\"adamax\")\n",
    "train_given_optimiser(\"nadam\")\n"
   ]
  },
  {
   "cell_type": "code",
   "execution_count": null,
   "metadata": {},
   "outputs": [],
   "source": []
  },
  {
   "cell_type": "markdown",
   "metadata": {},
   "source": [
    "Write a function that outputs the variables to store in the resutls data frame above."
   ]
  },
  {
   "cell_type": "code",
   "execution_count": null,
   "metadata": {},
   "outputs": [],
   "source": [
    "def model_results(model_num, \n",
    "                  optimizer = 'adam', \n",
    "                  loss_fn = 'mse', \n",
    "                  activation_fn = 'relu', \n",
    "                  output_activation_fn = 'relu', \n",
    "                  \n",
    "                  epochs = 100, \n",
    "                  batch_size =32, \n",
    "                  \n",
    "                  neurons_in_inputlayer = 5, \n",
    "                  num_hiddenlayer = 1,  \n",
    "                  neurons_in_hiddenlayer = 2, \n",
    "                  num_dropout_layers = 0,\n",
    "                  \n",
    "                  verbose = 0):  \n",
    "    \n",
    "    # The Model\n",
    "    \n",
    "    model = Sequential()\n",
    "    # Input Layer\n",
    "    model.add(Dense(neurons_in_inputlayer, input_dim = 1, activation = activation_fn))\n",
    "    # Dropout Layer\n",
    "    #model.add(Dropout(rate = 0.1,seed=100))\n",
    "    # Hidden Layers\n",
    "    model.add(Dense(neurons_in_hiddenlayer,activation = activation_fn))\n",
    "    # Output Layer\n",
    "    model.add(Dense(1,activation = output_activation_fn))\n",
    "\n",
    "    \n",
    "    # Compiling the model\n",
    "    model.compile(loss=loss_fn, optimizer=optimizer,\n",
    "    metrics=['mse', 'mae', 'mape', CosineSimilarity(), RootMeanSquaredError() , MeanSquaredLogarithmicError() ])\n",
    "    # Train the model and make predictions\n",
    "    model.fit(X_train, y_train, epochs=epochs, batch_size=batch_size, verbose = verbose)\n",
    "    # Evaluate the model\n",
    "    score = model.evaluate(X_test, y_test, verbose = verbose)\n",
    "    \n",
    "    # Make predictions from the trained model\n",
    "    #predictions = model.predict(X_test)\n",
    "    \n",
    "    # Store results\n",
    "    dict = {'model_num':[model_num],\n",
    "        'optimizer':[ optimizer],\n",
    "        'loss_fn':[loss_fn],\n",
    "        'activation_fn':[activation_fn],\n",
    "        'output_activation_fn':[output_activation_fn],\n",
    "        'epochs':[epochs],\n",
    "        'batch_size':[batch_size],\n",
    "        'neurons_in_inputlayer':[neurons_in_inputlayer],\n",
    "        'num_hiddenlayer':[num_hiddenlayer],\n",
    "        'neurons_in_hiddenlayer':[neurons_in_hiddenlayer],\n",
    "        'num_dropout_layers':[num_dropout_layers],            \n",
    "        'loss':[score[0]],\n",
    "        'mse_test':[score[1]],\n",
    "        'mae_test':[score[2]],\n",
    "        'mape_test':[score[3]],\n",
    "        'cosine_similarity_test':[score[4]],\n",
    "        'rmse_test':[score[5]],\n",
    "        'msle_test':[score[6]] \n",
    "       }\n",
    "\n",
    "    results_df = pd.DataFrame(dict)\n",
    "    #print (\"After Training:\", list(zip(model.metrics_names, score)))\n",
    "    return(results_df)\n",
    "\n",
    "model_results(0)"
   ]
  },
  {
   "cell_type": "code",
   "execution_count": null,
   "metadata": {},
   "outputs": [],
   "source": [
    "dict = {'model_num':[],\n",
    "        'optimizer':[ ],\n",
    "        'loss_fn':[],\n",
    "        'activation_fn':[],\n",
    "        'output_activation_fn':[],\n",
    "        'epochs':[],\n",
    "        'batch_size':[],\n",
    "        'neurons_in_inputlayer':[],\n",
    "        'num_hiddenlayer':[],\n",
    "        'neurons_in_hiddenlayer':[],\n",
    "        'num_dropout_layers':[],            \n",
    "        'loss':[],\n",
    "        'mse_test':[],\n",
    "        'mae_test':[],\n",
    "        'mape_test':[],\n",
    "        'cosine_similarity_test':[],\n",
    "        'rmse_test':[],\n",
    "        'msle_test':[] \n",
    "}\n",
    "\n",
    "results_df = pd.DataFrame(dict)\n",
    "results_df\n"
   ]
  },
  {
   "cell_type": "code",
   "execution_count": null,
   "metadata": {},
   "outputs": [],
   "source": [
    "\n",
    "optimizer_list = [\"nadam\", \"adam\"]\n",
    "loss_fn_list = [\"mse\", \"mae\", \"msle\"]\n",
    "activation_fn_list = [\"relu\", \"selu\"]\n",
    "epochs_list = [50, 100]\n",
    "batch_size_list = [1, 10, 32, 100]\n",
    "num_hiddenlayer_list = [1]\n",
    "neurons_in_hiddenlayer_list = [1, 5, 10]\n",
    "neurons_in_inputlayer_list = [1, 5, 10]\n",
    "num_dropout_layers_list = [0]\n",
    "\n",
    "number_parameters = len(optimizer_list) * len(loss_fn_list) * len(activation_fn_list) * len(epochs_list) * len(batch_size_list) * len(neurons_in_inputlayer_list) * len(neurons_in_hiddenlayer_list) * len(num_dropout_layers_list) \n",
    "print(\"number_parameters :\", number_parameters)\n",
    "\n",
    "print(2*3*2*2*4*3*3)"
   ]
  },
  {
   "cell_type": "markdown",
   "metadata": {},
   "source": [
    "## Hyperparameter Grid Search Loop"
   ]
  },
  {
   "cell_type": "code",
   "execution_count": null,
   "metadata": {},
   "outputs": [],
   "source": [
    "from datetime import datetime\n",
    "\n",
    "start=datetime.now()\n",
    "\n",
    "\n",
    "number_parameters = len(optimizer_list) * len(loss_fn_list) * len(activation_fn_list) * len(epochs_list) * len(batch_size_list) * len(neurons_in_inputlayer_list) * len(neurons_in_hiddenlayer_list) * len(num_dropout_layers_list) \n",
    "print(\"number_parameters :\", number_parameters)\n",
    "print(number_parameters)\n",
    "\n",
    "i = 0\n",
    "for opt in optimizer_list:\n",
    "    for loss in loss_fn_list:\n",
    "        for activation in activation_fn_list:\n",
    "            for epochs in epochs_list:\n",
    "                for batch in batch_size_list:\n",
    "                    for neurons_in_inputlayer in neurons_in_inputlayer_list:\n",
    "                        for neurons_in_hiddenlayer in neurons_in_hiddenlayer_list:\n",
    "                            \n",
    "                            results = model_results(model_num              = i, \n",
    "                                                    optimizer              = opt ,\n",
    "                                                    loss_fn                = loss, \n",
    "                                                    activation_fn          = activation, \n",
    "                                                    output_activation_fn   = 'relu', \n",
    "                                                    epochs                 = epochs, \n",
    "                                                    batch_size             = batch, \n",
    "                                                    neurons_in_inputlayer  = neurons_in_inputlayer,\n",
    "                                                    num_hiddenlayer        = 1,\n",
    "                                                    neurons_in_hiddenlayer = neurons_in_hiddenlayer,\n",
    "                                                    num_dropout_layers     = 0, \n",
    "                                                    verbose                = 0\n",
    "                                                    )\n",
    "                            \n",
    "                            results_df = results_df.append(results, ignore_index = True)\n",
    "                            print('i:', i)\n",
    "                            print(\"Percent Complete\", 100*i/number_parameters, '%')\n",
    "                            print( ' \\n ')\n",
    "                            print(results)\n",
    "                            print( ' \\n ')\n",
    "                            i+=1\n",
    "                                \n",
    "stop = datetime.now()\n",
    "\n",
    "print('Time: ', stop - start)"
   ]
  },
  {
   "cell_type": "code",
   "execution_count": null,
   "metadata": {},
   "outputs": [],
   "source": [
    "\n",
    "# Add information about the data structure to the model results. \n",
    "results_df['corr'] = corr\n",
    "\n",
    "runtime = stop - start\n",
    "print('Time: ', runtime)\n",
    "\n",
    "results_df['total_runtime'] = runtime\n",
    "\n",
    "print(results_df)\n",
    "\n",
    "results_df.to_csv('Experiment4_results_views_vs_comments.csv')\n",
    "\n",
    "results_df.describe()\n",
    "print(len(results_df.columns))\n",
    "print(results_df.columns)\n",
    "print(results_df.shape)"
   ]
  },
  {
   "cell_type": "markdown",
   "metadata": {},
   "source": [
    "### Read in the data from the saved results in the csv file. "
   ]
  },
  {
   "cell_type": "code",
   "execution_count": 3,
   "metadata": {},
   "outputs": [
    {
     "name": "stdout",
     "output_type": "stream",
     "text": [
      "(866, 21)\n",
      "Index(['Unnamed: 0', 'model_num', 'optimizer', 'loss_fn', 'activation_fn',\n",
      "       'output_activation_fn', 'epochs', 'batch_size', 'neurons_in_inputlayer',\n",
      "       'num_hiddenlayer', 'neurons_in_hiddenlayer', 'num_dropout_layers',\n",
      "       'loss', 'mse_test', 'mae_test', 'mape_test', 'cosine_similarity_test',\n",
      "       'rmse_test', 'msle_test', 'corr', 'total_runtime'],\n",
      "      dtype='object')\n"
     ]
    }
   ],
   "source": [
    "results_df = pd.read_csv(\"../Experimental_results/Experiment4_results_views_vs_comments.csv\")\n",
    "print(results_df.shape)\n",
    "print(results_df.columns)"
   ]
  },
  {
   "cell_type": "code",
   "execution_count": 4,
   "metadata": {},
   "outputs": [
    {
     "name": "stdout",
     "output_type": "stream",
     "text": [
      "(866, 6)\n",
      "Index(['mse_test', 'mae_test', 'mape_test', 'cosine_similarity_test',\n",
      "       'rmse_test', 'msle_test'],\n",
      "      dtype='object')\n"
     ]
    },
    {
     "data": {
      "text/plain": [
       "pandas.core.indexes.base.Index"
      ]
     },
     "execution_count": 4,
     "metadata": {},
     "output_type": "execute_result"
    }
   ],
   "source": [
    "# For each metric find min and max value combinations.\n",
    "# First select the metric columns\n",
    "\n",
    "results_df_metrics = results_df.loc[:, results_df.columns.str.contains('test')]\n",
    "print(results_df_metrics.shape)\n",
    "print(results_df_metrics.columns)\n",
    "type(results_df_metrics.columns)"
   ]
  },
  {
   "cell_type": "code",
   "execution_count": 5,
   "metadata": {},
   "outputs": [
    {
     "name": "stdout",
     "output_type": "stream",
     "text": [
      "mse_test                  6.967889e+12\n",
      "mae_test                  1.634295e+06\n",
      "mape_test                 1.000000e+02\n",
      "cosine_similarity_test    1.000000e+00\n",
      "rmse_test                 2.639676e+06\n",
      "msle_test                 1.959891e+02\n",
      "dtype: float64\n",
      "mse_test                  723\n",
      "mae_test                    0\n",
      "mape_test                   0\n",
      "cosine_similarity_test      3\n",
      "rmse_test                 723\n",
      "msle_test                   0\n",
      "dtype: int64\n"
     ]
    }
   ],
   "source": [
    "# Find max values of the metrics values\n",
    "\n",
    "print(results_df_metrics.max())\n",
    "\n",
    "maxValueIndex = results_df_metrics.idxmax()\n",
    "print(maxValueIndex)"
   ]
  },
  {
   "cell_type": "code",
   "execution_count": 6,
   "metadata": {},
   "outputs": [
    {
     "name": "stdout",
     "output_type": "stream",
     "text": [
      "mse_test                  4.141292e+12\n",
      "mae_test                  9.809189e+05\n",
      "mape_test                 5.182317e+01\n",
      "cosine_similarity_test    0.000000e+00\n",
      "rmse_test                 2.035017e+06\n",
      "msle_test                 5.860268e-01\n",
      "dtype: float64\n",
      "\n",
      "mse_test                    4\n",
      "mae_test                  262\n",
      "mape_test                 256\n",
      "cosine_similarity_test      0\n",
      "rmse_test                   4\n",
      "msle_test                 838\n",
      "dtype: int64\n",
      "\n",
      "[  4 262 256   0   4 838]\n"
     ]
    },
    {
     "data": {
      "text/html": [
       "<div>\n",
       "<style scoped>\n",
       "    .dataframe tbody tr th:only-of-type {\n",
       "        vertical-align: middle;\n",
       "    }\n",
       "\n",
       "    .dataframe tbody tr th {\n",
       "        vertical-align: top;\n",
       "    }\n",
       "\n",
       "    .dataframe thead th {\n",
       "        text-align: right;\n",
       "    }\n",
       "</style>\n",
       "<table border=\"1\" class=\"dataframe\">\n",
       "  <thead>\n",
       "    <tr style=\"text-align: right;\">\n",
       "      <th></th>\n",
       "      <th>Unnamed: 0</th>\n",
       "      <th>model_num</th>\n",
       "      <th>optimizer</th>\n",
       "      <th>loss_fn</th>\n",
       "      <th>activation_fn</th>\n",
       "      <th>output_activation_fn</th>\n",
       "      <th>epochs</th>\n",
       "      <th>batch_size</th>\n",
       "      <th>neurons_in_inputlayer</th>\n",
       "      <th>num_hiddenlayer</th>\n",
       "      <th>...</th>\n",
       "      <th>num_dropout_layers</th>\n",
       "      <th>loss</th>\n",
       "      <th>mse_test</th>\n",
       "      <th>mae_test</th>\n",
       "      <th>mape_test</th>\n",
       "      <th>cosine_similarity_test</th>\n",
       "      <th>rmse_test</th>\n",
       "      <th>msle_test</th>\n",
       "      <th>corr</th>\n",
       "      <th>total_runtime</th>\n",
       "    </tr>\n",
       "  </thead>\n",
       "  <tbody>\n",
       "    <tr>\n",
       "      <th>4</th>\n",
       "      <td>4</td>\n",
       "      <td>2.0</td>\n",
       "      <td>nadam</td>\n",
       "      <td>mse</td>\n",
       "      <td>relu</td>\n",
       "      <td>relu</td>\n",
       "      <td>50.0</td>\n",
       "      <td>1.0</td>\n",
       "      <td>1.0</td>\n",
       "      <td>1.0</td>\n",
       "      <td>...</td>\n",
       "      <td>0.0</td>\n",
       "      <td>4.141292e+12</td>\n",
       "      <td>4.141292e+12</td>\n",
       "      <td>1048607.750</td>\n",
       "      <td>60.543694</td>\n",
       "      <td>1.0</td>\n",
       "      <td>2035016.625</td>\n",
       "      <td>1.189505</td>\n",
       "      <td>0.528903</td>\n",
       "      <td>0 days 09:08:40.950942</td>\n",
       "    </tr>\n",
       "    <tr>\n",
       "      <th>262</th>\n",
       "      <td>262</td>\n",
       "      <td>260.0</td>\n",
       "      <td>nadam</td>\n",
       "      <td>mae</td>\n",
       "      <td>selu</td>\n",
       "      <td>relu</td>\n",
       "      <td>100.0</td>\n",
       "      <td>1.0</td>\n",
       "      <td>10.0</td>\n",
       "      <td>1.0</td>\n",
       "      <td>...</td>\n",
       "      <td>0.0</td>\n",
       "      <td>9.809189e+05</td>\n",
       "      <td>4.255918e+12</td>\n",
       "      <td>980918.875</td>\n",
       "      <td>60.757793</td>\n",
       "      <td>1.0</td>\n",
       "      <td>2062987.625</td>\n",
       "      <td>0.667647</td>\n",
       "      <td>0.528903</td>\n",
       "      <td>0 days 09:08:40.950942</td>\n",
       "    </tr>\n",
       "    <tr>\n",
       "      <th>256</th>\n",
       "      <td>256</td>\n",
       "      <td>254.0</td>\n",
       "      <td>nadam</td>\n",
       "      <td>mae</td>\n",
       "      <td>selu</td>\n",
       "      <td>relu</td>\n",
       "      <td>100.0</td>\n",
       "      <td>1.0</td>\n",
       "      <td>1.0</td>\n",
       "      <td>1.0</td>\n",
       "      <td>...</td>\n",
       "      <td>0.0</td>\n",
       "      <td>1.058086e+06</td>\n",
       "      <td>4.790659e+12</td>\n",
       "      <td>1058086.500</td>\n",
       "      <td>51.823166</td>\n",
       "      <td>1.0</td>\n",
       "      <td>2188757.250</td>\n",
       "      <td>0.916736</td>\n",
       "      <td>0.528903</td>\n",
       "      <td>0 days 09:08:40.950942</td>\n",
       "    </tr>\n",
       "    <tr>\n",
       "      <th>0</th>\n",
       "      <td>0</td>\n",
       "      <td>0.0</td>\n",
       "      <td>nadam</td>\n",
       "      <td>mse</td>\n",
       "      <td>relu</td>\n",
       "      <td>relu</td>\n",
       "      <td>1.0</td>\n",
       "      <td>1.0</td>\n",
       "      <td>1.0</td>\n",
       "      <td>1.0</td>\n",
       "      <td>...</td>\n",
       "      <td>0.0</td>\n",
       "      <td>6.484386e+12</td>\n",
       "      <td>6.484386e+12</td>\n",
       "      <td>1634295.375</td>\n",
       "      <td>100.000000</td>\n",
       "      <td>0.0</td>\n",
       "      <td>2546445.750</td>\n",
       "      <td>195.989105</td>\n",
       "      <td>0.528903</td>\n",
       "      <td>0 days 09:08:40.950942</td>\n",
       "    </tr>\n",
       "    <tr>\n",
       "      <th>4</th>\n",
       "      <td>4</td>\n",
       "      <td>2.0</td>\n",
       "      <td>nadam</td>\n",
       "      <td>mse</td>\n",
       "      <td>relu</td>\n",
       "      <td>relu</td>\n",
       "      <td>50.0</td>\n",
       "      <td>1.0</td>\n",
       "      <td>1.0</td>\n",
       "      <td>1.0</td>\n",
       "      <td>...</td>\n",
       "      <td>0.0</td>\n",
       "      <td>4.141292e+12</td>\n",
       "      <td>4.141292e+12</td>\n",
       "      <td>1048607.750</td>\n",
       "      <td>60.543694</td>\n",
       "      <td>1.0</td>\n",
       "      <td>2035016.625</td>\n",
       "      <td>1.189505</td>\n",
       "      <td>0.528903</td>\n",
       "      <td>0 days 09:08:40.950942</td>\n",
       "    </tr>\n",
       "    <tr>\n",
       "      <th>838</th>\n",
       "      <td>838</td>\n",
       "      <td>836.0</td>\n",
       "      <td>adam</td>\n",
       "      <td>msle</td>\n",
       "      <td>selu</td>\n",
       "      <td>relu</td>\n",
       "      <td>100.0</td>\n",
       "      <td>1.0</td>\n",
       "      <td>10.0</td>\n",
       "      <td>1.0</td>\n",
       "      <td>...</td>\n",
       "      <td>0.0</td>\n",
       "      <td>5.860268e-01</td>\n",
       "      <td>5.225329e+12</td>\n",
       "      <td>1046295.750</td>\n",
       "      <td>72.798332</td>\n",
       "      <td>1.0</td>\n",
       "      <td>2285897.750</td>\n",
       "      <td>0.586027</td>\n",
       "      <td>0.528903</td>\n",
       "      <td>0 days 09:08:40.950942</td>\n",
       "    </tr>\n",
       "  </tbody>\n",
       "</table>\n",
       "<p>6 rows × 21 columns</p>\n",
       "</div>"
      ],
      "text/plain": [
       "     Unnamed: 0  model_num optimizer loss_fn activation_fn  \\\n",
       "4             4        2.0     nadam     mse          relu   \n",
       "262         262      260.0     nadam     mae          selu   \n",
       "256         256      254.0     nadam     mae          selu   \n",
       "0             0        0.0     nadam     mse          relu   \n",
       "4             4        2.0     nadam     mse          relu   \n",
       "838         838      836.0      adam    msle          selu   \n",
       "\n",
       "    output_activation_fn  epochs  batch_size  neurons_in_inputlayer  \\\n",
       "4                   relu    50.0         1.0                    1.0   \n",
       "262                 relu   100.0         1.0                   10.0   \n",
       "256                 relu   100.0         1.0                    1.0   \n",
       "0                   relu     1.0         1.0                    1.0   \n",
       "4                   relu    50.0         1.0                    1.0   \n",
       "838                 relu   100.0         1.0                   10.0   \n",
       "\n",
       "     num_hiddenlayer  ...  num_dropout_layers          loss      mse_test  \\\n",
       "4                1.0  ...                 0.0  4.141292e+12  4.141292e+12   \n",
       "262              1.0  ...                 0.0  9.809189e+05  4.255918e+12   \n",
       "256              1.0  ...                 0.0  1.058086e+06  4.790659e+12   \n",
       "0                1.0  ...                 0.0  6.484386e+12  6.484386e+12   \n",
       "4                1.0  ...                 0.0  4.141292e+12  4.141292e+12   \n",
       "838              1.0  ...                 0.0  5.860268e-01  5.225329e+12   \n",
       "\n",
       "        mae_test   mape_test  cosine_similarity_test    rmse_test   msle_test  \\\n",
       "4    1048607.750   60.543694                     1.0  2035016.625    1.189505   \n",
       "262   980918.875   60.757793                     1.0  2062987.625    0.667647   \n",
       "256  1058086.500   51.823166                     1.0  2188757.250    0.916736   \n",
       "0    1634295.375  100.000000                     0.0  2546445.750  195.989105   \n",
       "4    1048607.750   60.543694                     1.0  2035016.625    1.189505   \n",
       "838  1046295.750   72.798332                     1.0  2285897.750    0.586027   \n",
       "\n",
       "         corr           total_runtime  \n",
       "4    0.528903  0 days 09:08:40.950942  \n",
       "262  0.528903  0 days 09:08:40.950942  \n",
       "256  0.528903  0 days 09:08:40.950942  \n",
       "0    0.528903  0 days 09:08:40.950942  \n",
       "4    0.528903  0 days 09:08:40.950942  \n",
       "838  0.528903  0 days 09:08:40.950942  \n",
       "\n",
       "[6 rows x 21 columns]"
      ]
     },
     "execution_count": 6,
     "metadata": {},
     "output_type": "execute_result"
    }
   ],
   "source": [
    "# Finding min values of the metrics\n",
    "\n",
    "print(results_df_metrics.min())\n",
    "\n",
    "print()\n",
    "minValueIndex = results_df_metrics.idxmin()\n",
    "print(minValueIndex)\n",
    "print()\n",
    "print(minValueIndex.values)\n",
    "results_df.iloc[minValueIndex.values]"
   ]
  },
  {
   "cell_type": "code",
   "execution_count": 12,
   "metadata": {},
   "outputs": [
    {
     "name": "stdout",
     "output_type": "stream",
     "text": [
      "2461181.9732967666\n",
      "2035016.625\n",
      "4\n"
     ]
    },
    {
     "data": {
      "text/plain": [
       "Unnamed: 0                                     4\n",
       "model_num                                      2\n",
       "optimizer                                  nadam\n",
       "loss_fn                                      mse\n",
       "activation_fn                               relu\n",
       "output_activation_fn                        relu\n",
       "epochs                                        50\n",
       "batch_size                                     1\n",
       "neurons_in_inputlayer                          1\n",
       "num_hiddenlayer                                1\n",
       "neurons_in_hiddenlayer                        10\n",
       "num_dropout_layers                             0\n",
       "loss                                 4.14129e+12\n",
       "mse_test                             4.14129e+12\n",
       "mae_test                             1.04861e+06\n",
       "mape_test                                60.5437\n",
       "cosine_similarity_test                         1\n",
       "rmse_test                            2.03502e+06\n",
       "msle_test                                1.18951\n",
       "corr                                    0.528903\n",
       "total_runtime             0 days 09:08:40.950942\n",
       "Name: 4, dtype: object"
      ]
     },
     "execution_count": 12,
     "metadata": {},
     "output_type": "execute_result"
    }
   ],
   "source": [
    "idx_min_rmse = results_df.rmse_test.idxmin()\n",
    "print(results_df.rmse_test.mean())\n",
    "print(results_df.rmse_test.min())\n",
    "print(idx_min_rmse)\n",
    "results_df.iloc[idx_min_rmse]"
   ]
  },
  {
   "cell_type": "code",
   "execution_count": null,
   "metadata": {},
   "outputs": [],
   "source": []
  },
  {
   "cell_type": "code",
   "execution_count": 7,
   "metadata": {},
   "outputs": [
    {
     "data": {
      "text/html": [
       "<div>\n",
       "<style scoped>\n",
       "    .dataframe tbody tr th:only-of-type {\n",
       "        vertical-align: middle;\n",
       "    }\n",
       "\n",
       "    .dataframe tbody tr th {\n",
       "        vertical-align: top;\n",
       "    }\n",
       "\n",
       "    .dataframe thead th {\n",
       "        text-align: right;\n",
       "    }\n",
       "</style>\n",
       "<table border=\"1\" class=\"dataframe\">\n",
       "  <thead>\n",
       "    <tr style=\"text-align: right;\">\n",
       "      <th></th>\n",
       "      <th>model_num</th>\n",
       "      <th>variable</th>\n",
       "      <th>value</th>\n",
       "    </tr>\n",
       "  </thead>\n",
       "  <tbody>\n",
       "    <tr>\n",
       "      <th>0</th>\n",
       "      <td>0.0</td>\n",
       "      <td>mse_test</td>\n",
       "      <td>6.484386e+12</td>\n",
       "    </tr>\n",
       "    <tr>\n",
       "      <th>1</th>\n",
       "      <td>0.0</td>\n",
       "      <td>mse_test</td>\n",
       "      <td>6.484386e+12</td>\n",
       "    </tr>\n",
       "    <tr>\n",
       "      <th>2</th>\n",
       "      <td>0.0</td>\n",
       "      <td>mse_test</td>\n",
       "      <td>6.484386e+12</td>\n",
       "    </tr>\n",
       "    <tr>\n",
       "      <th>3</th>\n",
       "      <td>1.0</td>\n",
       "      <td>mse_test</td>\n",
       "      <td>4.659994e+12</td>\n",
       "    </tr>\n",
       "    <tr>\n",
       "      <th>4</th>\n",
       "      <td>2.0</td>\n",
       "      <td>mse_test</td>\n",
       "      <td>4.141292e+12</td>\n",
       "    </tr>\n",
       "    <tr>\n",
       "      <th>...</th>\n",
       "      <td>...</td>\n",
       "      <td>...</td>\n",
       "      <td>...</td>\n",
       "    </tr>\n",
       "    <tr>\n",
       "      <th>5191</th>\n",
       "      <td>859.0</td>\n",
       "      <td>msle_test</td>\n",
       "      <td>3.139518e+01</td>\n",
       "    </tr>\n",
       "    <tr>\n",
       "      <th>5192</th>\n",
       "      <td>860.0</td>\n",
       "      <td>msle_test</td>\n",
       "      <td>3.476908e+01</td>\n",
       "    </tr>\n",
       "    <tr>\n",
       "      <th>5193</th>\n",
       "      <td>861.0</td>\n",
       "      <td>msle_test</td>\n",
       "      <td>1.959891e+02</td>\n",
       "    </tr>\n",
       "    <tr>\n",
       "      <th>5194</th>\n",
       "      <td>862.0</td>\n",
       "      <td>msle_test</td>\n",
       "      <td>4.270843e+01</td>\n",
       "    </tr>\n",
       "    <tr>\n",
       "      <th>5195</th>\n",
       "      <td>863.0</td>\n",
       "      <td>msle_test</td>\n",
       "      <td>4.281861e+01</td>\n",
       "    </tr>\n",
       "  </tbody>\n",
       "</table>\n",
       "<p>5196 rows × 3 columns</p>\n",
       "</div>"
      ],
      "text/plain": [
       "      model_num   variable         value\n",
       "0           0.0   mse_test  6.484386e+12\n",
       "1           0.0   mse_test  6.484386e+12\n",
       "2           0.0   mse_test  6.484386e+12\n",
       "3           1.0   mse_test  4.659994e+12\n",
       "4           2.0   mse_test  4.141292e+12\n",
       "...         ...        ...           ...\n",
       "5191      859.0  msle_test  3.139518e+01\n",
       "5192      860.0  msle_test  3.476908e+01\n",
       "5193      861.0  msle_test  1.959891e+02\n",
       "5194      862.0  msle_test  4.270843e+01\n",
       "5195      863.0  msle_test  4.281861e+01\n",
       "\n",
       "[5196 rows x 3 columns]"
      ]
     },
     "execution_count": 7,
     "metadata": {},
     "output_type": "execute_result"
    }
   ],
   "source": [
    "\n",
    "# Convert the data from wide format to long format. use pd.melt()\n",
    "\n",
    "results_df_long0 = pd.melt(results_df, id_vars='model_num', value_vars=results_df_metrics.columns)\n",
    "results_df_long0"
   ]
  },
  {
   "cell_type": "markdown",
   "metadata": {},
   "source": [
    "# Visualize the hyperparameter search results\n"
   ]
  },
  {
   "cell_type": "code",
   "execution_count": 8,
   "metadata": {},
   "outputs": [
    {
     "data": {
      "image/png": "[encoded data removed]",
      "text/plain": [
       "<Figure size 1080x576 with 1 Axes>"
      ]
     },
     "metadata": {
      "needs_background": "light"
     },
     "output_type": "display_data"
    }
   ],
   "source": [
    "# Summarize the results as boxplots\n",
    "\n",
    "fig, ax = plt.subplots(nrows=1, ncols=1,figsize=(15, 8))\n",
    "sns.boxplot(x='variable', y='value', \n",
    "            data= results_df_long0[results_df_long0.variable!= 'mse_test'], \n",
    "            palette=\"muted\", ax = ax)\n",
    "plt.show()"
   ]
  },
  {
   "cell_type": "code",
   "execution_count": 9,
   "metadata": {},
   "outputs": [
    {
     "data": {
      "image/png": "[encoded data removed]",
      "text/plain": [
       "<Figure size 432x288 with 1 Axes>"
      ]
     },
     "metadata": {
      "needs_background": "light"
     },
     "output_type": "display_data"
    },
    {
     "data": {
      "image/png": "[encoded data removed]",
      "text/plain": [
       "<Figure size 432x288 with 1 Axes>"
      ]
     },
     "metadata": {
      "needs_background": "light"
     },
     "output_type": "display_data"
    },
    {
     "data": {
      "image/png": "[encoded data removed]",
      "text/plain": [
       "<Figure size 432x288 with 1 Axes>"
      ]
     },
     "metadata": {
      "needs_background": "light"
     },
     "output_type": "display_data"
    },
    {
     "data": {
      "image/png": "[encoded data removed]",
      "text/plain": [
       "<Figure size 432x288 with 1 Axes>"
      ]
     },
     "metadata": {
      "needs_background": "light"
     },
     "output_type": "display_data"
    },
    {
     "data": {
      "image/png": "[encoded data removed]",
      "text/plain": [
       "<Figure size 432x288 with 1 Axes>"
      ]
     },
     "metadata": {
      "needs_background": "light"
     },
     "output_type": "display_data"
    },
    {
     "data": {
      "image/png": "[encoded data removed]",
      "text/plain": [
       "<Figure size 432x288 with 1 Axes>"
      ]
     },
     "metadata": {
      "needs_background": "light"
     },
     "output_type": "display_data"
    }
   ],
   "source": [
    "# Histogram using sns distribution\n",
    "\n",
    "#sns.histplot(results_df.rmse_test)\n",
    "#sns.displot(results_df.rmse_test)\n",
    "\n",
    "#fig, ax = plt.subplots(nrows=3, ncols=2)\n",
    "for metric in results_df_metrics.columns:\n",
    "\n",
    "    #print(metric)\n",
    "    sns.histplot(results_df[metric])\n",
    "    plt.show()"
   ]
  },
  {
   "cell_type": "markdown",
   "metadata": {},
   "source": [
    "\n",
    "This code is amazingly beautiful and I give full credit from where I copied it: Stackoverflow: https://stackoverflow.com/questions/34439/finding-what-methods-a-python-object-has¶\n",
    "import pandas as pd df = pd.DataFrame([[10, 20, 30], [100, 200, 300]], columns=['foo', 'bar', 'baz']) def get_methods(object, spacing=20): methodList = [] for method_name in dir(object): try: if callable(getattr(object, method_name)): methodList.append(str(method_name)) except: methodList.append(str(method_name)) processFunc = (lambda s: ' '.join(s.split())) or (lambda s: s) for method in methodList: try: print(str(method.ljust(spacing)) + ' ' + processFunc(str(getattr(object, method).doc)[0:90])) except: print(method.ljust(spacing) + ' ' + ' getattr() failed')\n",
    "\n",
    "get_methods(df['foo'])"
   ]
  },
  {
   "cell_type": "code",
   "execution_count": null,
   "metadata": {},
   "outputs": [],
   "source": [
    "# Summarize the results\n",
    "\n",
    "#plt.subplots(nrows=1, ncols=1,figsize=(15, 8))\n",
    "sns.boxplot( data=results_df['mse_test', 'mae_test', 'rmse_test', 'msle_test']\n",
    "plt.show()"
   ]
  },
  {
   "cell_type": "code",
   "execution_count": null,
   "metadata": {},
   "outputs": [],
   "source": []
  },
  {
   "cell_type": "markdown",
   "metadata": {},
   "source": [
    "Group by summary results: Grouping variables: loss_fn, optimizer, and activation_fn"
   ]
  },
  {
   "cell_type": "markdown",
   "metadata": {},
   "source": [
    "We will search which combination of hyperparameters performs the best for the different metrics - and which metrics are useful."
   ]
  },
  {
   "cell_type": "code",
   "execution_count": null,
   "metadata": {},
   "outputs": [],
   "source": []
  },
  {
   "cell_type": "markdown",
   "metadata": {},
   "source": [
    "# Multivariable Shallow Neural Network."
   ]
  },
  {
   "cell_type": "markdown",
   "metadata": {},
   "source": []
  },
  {
   "cell_type": "markdown",
   "metadata": {},
   "source": [
    "The data we will be using will be the 'ted' data since there is more preprossessing done on it. The ted data is missing non-ted talks as they are excluded."
   ]
  },
  {
   "cell_type": "markdown",
   "metadata": {},
   "source": [
    "Cleaning the data: Should the cleaning be done before or after the data splitting. To be 100% sure, it should be done after the splitting. However, the training data is cleaned so should the test data be. This is harder and more work, and because it is harder this is what we will do. To make it easy what is hard, make a function that only needs a data set to be passed in. The biggest issue of first cleaning is that it is possible to have information leak into the rows that will be used as test set from the training set. This 'leaky' problem must be avoided.\n",
    "\n",
    "Obviously, I do know that some steps can be done before splitting the data and no information will be leaked e.g. deleting columns that are not variables. However, I propose just to make a function that does all the cleaning steps and simply applying the functions to both training and test sets. This way everything stays in one place and things are more tracable. Although, yes, it may be over work and better to quickly just get rid of all the columns first before anything is done."
   ]
  },
  {
   "cell_type": "markdown",
   "metadata": {},
   "source": [
    "\n",
    "Once the data is split into train and test. We could further divide the training data into train and validation sets. So our split of the data will be 60:20:20. What we can then do is while training the model using the 60% of the data also indicate in val_per = .2 so that cross validatio is also performed during the training phase. This three phases allow us to first train all the models, then on the validation set compare all the models and choosing the best performing one, and finally using the test set to find the accuracy of the best model in production. Now one last word. If the data set is very very large people at Dessa implementing deep learning for corporate clients have told me that cross validation can be left out, because the data is so large. My reasoning, if this is indeed the case, is because there is only redundant information learned by performing cross validation. The data is so large the model learns all the information in the data with regular training. Cross validation therefore, I surmise, can also be thought as a data augmentation method, nor a data trend augmentation, but data trend augmentation. Data trend augmentation is creating and replicating patterns in the data that already exist and making them stronger or more detectable.\n",
    "\n",
    "Data Cleaning\n",
    "\n",
    "Questions on data cleaning: Should we normalize the data for neural network models. We do not need to normalize the data for the random forest algorithm. I think we do not need to.\n",
    "\n",
    "I will now perform the data cleaning steps which I first list down here for consision and comprehensive vision:\n",
    "\n",
    "1. Remove columns that are not variables such as the indexing and other book keeping columns.\n",
    "2. Create dummy variables for categorical data.\n",
    "3. Make sure all the data is either numerical or categorical. Dates should be converted to numerical or categorical; should not be left as date type data.\n",
    "4. Any other data cleaning steps that need to be done? Nothing at the moment comes to mind."
   ]
  },
  {
   "cell_type": "code",
   "execution_count": null,
   "metadata": {},
   "outputs": [],
   "source": [
    "# Again look at the data columns and the type of variables they are. \n",
    "\n",
    "\n",
    "print(ted.columns)\n",
    "print(len(ted.columns))\n",
    "\n",
    "# Remove the columns: index, url,"
   ]
  },
  {
   "cell_type": "markdown",
   "metadata": {},
   "source": [
    "This has the day, and month, but not the year the talks were published. It should be created. Here the statistician in me asks is there sufficient benefit so as to create and add the variable, what the statistician is asking is does the cost of increasing the number of variables, which increases the number of degrees of freedom, making the model more flexible worth the variability explained by the model, or the increase in predictive power. The same question phrased by a computer scientist would be by adding this variable are we overfitting?\n",
    "\n",
    "The statistician hence needs reminding that we only care about if the predictive power of the model increases. This is assessed in the tuning phase of the model when the accuracy is measured on the validation set. If including the variable increases the validation set accuracy then the student of computer scientist within me simply states we need not think any further; we are only interested in predictive power and not in explainability in itself."
   ]
  },
  {
   "cell_type": "code",
   "execution_count": null,
   "metadata": {},
   "outputs": [],
   "source": [
    "# We will create at the end a cleaned data set called ted_clean.\n",
    "\n",
    "ted1 = ted.drop(['index', 'url', 'main_speaker', 'speaker_occupation', 'occ', 'film_date', \n",
    "                 'event', 'description', 'ratings', 'name', 'title', 'published_date' , 'related_talks', 'tags'], axis =1)\n",
    "print(ted1.columns)\n",
    "print(len(ted1.columns))\n",
    "ted2 = pd.get_dummies(ted1)\n",
    "\n",
    "print(ted2.columns)\n",
    "print(len(ted2.columns))"
   ]
  },
  {
   "cell_type": "markdown",
   "metadata": {},
   "source": [
    "Firstly, of all is it correct that so many are created? Secondly, are the correct ones made into dummy variables (i.e. only categorical data ones)? Lastly, is there a better way or since we are using a deep neural network this is good. Or even what we want?"
   ]
  },
  {
   "cell_type": "markdown",
   "metadata": {},
   "source": [
    "First the proper non-trivial, but still basic model with proper variables and a deep neural network. Statistically speaking we will now do multivariable analysis, instead of univariable analysis, though still using shallow networks.\n",
    "This only has one categorical variable: event_cat\n",
    "\n",
    "We start with data splitting"
   ]
  },
  {
   "cell_type": "code",
   "execution_count": null,
   "metadata": {},
   "outputs": [],
   "source": [
    "## Setting up the training and test data\n",
    "\n",
    "# Seperate the data first into training and testing.\n",
    "X_train, X_test, y_train, y_test = train_test_split( ted2.drop('views', axis = 1), ted['views'], test_size=0.2, random_state=1 )\n",
    "                                                                                     \n",
    "                                                                                     \n",
    "for set in [X_train, X_test, y_train, y_test]:\n",
    "    print( len(set) )\n",
    "    \n",
    "print(X_train.shape)"
   ]
  },
  {
   "cell_type": "code",
   "execution_count": null,
   "metadata": {},
   "outputs": [],
   "source": [
    "print(X_train.shape)\n",
    "X_train.shape[1]"
   ]
  },
  {
   "cell_type": "code",
   "execution_count": null,
   "metadata": {},
   "outputs": [],
   "source": [
    "# Write the multivariable shallow network as a function that outputs the results and plots."
   ]
  },
  {
   "cell_type": "code",
   "execution_count": null,
   "metadata": {},
   "outputs": [],
   "source": [
    "# This is getting very long. Need to covert this into a script. \n",
    "def model_results(model_num, \n",
    "                  \n",
    "                  #X_train = X_train,\n",
    "                  #y_train = y_train,\n",
    "                  #X_test = X_test, \n",
    "                  #y_test = y_test,\n",
    "                  \n",
    "                  optimizer = 'adam', \n",
    "                  loss_fn = 'mse', \n",
    "                  activation_fn = 'relu', \n",
    "                  output_activation_fn = 'relu', \n",
    "                  \n",
    "                  epochs = 100, \n",
    "                  batch_size =32,\n",
    "                  validation_split = 0.2,\n",
    "                  \n",
    "                  \n",
    "                  neurons_in_inputlayer = 50, \n",
    "                  num_hiddenlayer = 1,  \n",
    "                  neurons_in_hiddenlayer = 40, \n",
    "                  num_dropout_layers = 0,\n",
    "                  \n",
    "                  verbose = 0):  \n",
    "    \n",
    "    # The Model\n",
    "    \n",
    "    input_dimensions = X_train.shape[1]\n",
    "    \n",
    "    model = Sequential()\n",
    "    # Input Layer\n",
    "    model.add(Dense(neurons_in_inputlayer, input_dim = input_dimensions, activation = activation_fn))\n",
    "    # Dropout Layer\n",
    "    #model.add(Dropout(rate = 0.1,seed=100))\n",
    "    # Hidden Layers\n",
    "    model.add(Dense(neurons_in_hiddenlayer,activation = activation_fn))\n",
    "    # Output Layer\n",
    "    model.add(Dense(1,activation = output_activation_fn))\n",
    "\n",
    "    \n",
    "    # Compiling the model\n",
    "    model.compile(loss=loss_fn, optimizer=optimizer,\n",
    "    #metrics=['mse', 'mae', 'mape', CosineSimilarity(), RootMeanSquaredError() , MeanSquaredLogarithmicError() ])\n",
    "    metrics=[ MeanSquaredError(), MeanAbsoluteError(), MeanAbsolutePercentageError() \n",
    "             , CosineSimilarity() , RootMeanSquaredError(), MeanSquaredLogarithmicError()  ]   )\n",
    "\n",
    "    # Train the model and make predictions\n",
    "    model_fit=model.fit(X_train,y_train,epochs=epochs,batch_size=batch_size,verbose=verbose,validation_split=validation_split)\n",
    "    # Evaluate the model\n",
    "    score = model.evaluate(X_test, y_test, verbose = verbose)\n",
    "    \n",
    "    # Make predictions from the trained model\n",
    "    #predictions = model.predict(X_test)\n",
    "    \n",
    "    # Store results\n",
    "    dict = {'model_num':[model_num],\n",
    "        'optimizer':[ optimizer],\n",
    "        'loss_fn':[loss_fn],\n",
    "        'activation_fn':[activation_fn],\n",
    "        'output_activation_fn':[output_activation_fn],\n",
    "        'epochs':[epochs],\n",
    "        'batch_size':[batch_size],\n",
    "        'validation_split':[validation_split],\n",
    "        'input_dimensions':[input_dimensions],\n",
    "        'neurons_in_inputlayer':[neurons_in_inputlayer],\n",
    "        'num_hiddenlayer':[num_hiddenlayer],\n",
    "        'neurons_in_hiddenlayer':[neurons_in_hiddenlayer],\n",
    "        'num_dropout_layers':[num_dropout_layers],            \n",
    "        'loss':[score[0]],\n",
    "        'mse_test':[score[1]],\n",
    "        'mae_test':[score[2]],\n",
    "        'mape_test':[score[3]],\n",
    "        'cosine_similarity_test':[score[4]],\n",
    "        'rmse_test':[score[5]],\n",
    "        'msle_test':[score[6]] \n",
    "       }\n",
    "    \n",
    "    \n",
    "    # \"Plot Loss\"\n",
    "    plt.plot(model_fit.history['loss'])\n",
    "    plt.plot(model_fit.history['val_loss'])\n",
    "    plt.title('model loss')\n",
    "    plt.ylabel('loss')\n",
    "    plt.xlabel('epoch')\n",
    "    plt.legend(['train', 'validation'], loc='upper right')\n",
    "    plt.show()\n",
    "    \n",
    "    \n",
    "    # Plot metrics\n",
    "    for metric in ['mean_squared_error', 'root_mean_squared_error' ,'mean_absolute_error', 'mean_absolute_percentage_error','cosine_similarity', 'mean_squared_logarithmic_error']:\n",
    "        plt.plot(model_fit.history[metric])\n",
    "        plt.title('Model Metric: '+ metric)\n",
    "        plt.ylabel(metric)\n",
    "        plt.xlabel('epoch')\n",
    "        #plt.plot(model_fit.history['mean_squared_error'])\n",
    "        #plt.plot(model_fit.history['mean_absolute_error'])\n",
    "        #plt.plot(model_fit.history['mean_absolute_percentage_error'])\n",
    "        #pyplot.plot(model_fit.history['cosine_proximity'])\n",
    "        plt.show()\n",
    "\n",
    "    results_df = pd.DataFrame(dict)\n",
    "    #print (\"After Training:\", list(zip(model.metrics_names, score)))\n",
    "    return(results_df)\n",
    "\n",
    "model_0 = model_results(0)\n",
    "model_0"
   ]
  },
  {
   "cell_type": "code",
   "execution_count": null,
   "metadata": {},
   "outputs": [],
   "source": [
    "print(804724.75/2035016.625)\n",
    "print(100*(2035016.625 - 804724.75) / 2035016.625)\n",
    "print((804724.75/2035016.625)**-1)"
   ]
  },
  {
   "cell_type": "code",
   "execution_count": 13,
   "metadata": {},
   "outputs": [
    {
     "data": {
      "image/png": "[encoded data removed]",
      "text/plain": [
       "<Figure size 432x288 with 1 Axes>"
      ]
     },
     "metadata": {
      "needs_background": "light"
     },
     "output_type": "display_data"
    }
   ],
   "source": [
    "ax = sns.barplot(x=[\"univariable neural network\", \"multivariable neural network\"], y=[2035016.625,804724.75])\n",
    "ax.set_ylabel(\"RMSE\")\n",
    "ax.set_title(\"Univariable vs. Multivariable Shallow NN\")\n",
    "#ax1.set_ylabel('volts')\n",
    "plt.savefig('test_rmse_usnn_vs_msnn.png')"
   ]
  },
  {
   "cell_type": "markdown",
   "metadata": {},
   "source": [
    "We can see there is a clear improvement using the multivariable model over the univariable model. A 60.46% improvement over the univariable model. 2.5 times decrease."
   ]
  },
  {
   "cell_type": "code",
   "execution_count": null,
   "metadata": {},
   "outputs": [],
   "source": []
  },
  {
   "cell_type": "code",
   "execution_count": null,
   "metadata": {},
   "outputs": [],
   "source": []
  },
  {
   "cell_type": "code",
   "execution_count": null,
   "metadata": {},
   "outputs": [],
   "source": []
  },
  {
   "cell_type": "code",
   "execution_count": null,
   "metadata": {},
   "outputs": [],
   "source": []
  },
  {
   "cell_type": "code",
   "execution_count": null,
   "metadata": {},
   "outputs": [],
   "source": []
  },
  {
   "cell_type": "code",
   "execution_count": null,
   "metadata": {},
   "outputs": [],
   "source": []
  },
  {
   "cell_type": "code",
   "execution_count": null,
   "metadata": {},
   "outputs": [],
   "source": []
  },
  {
   "cell_type": "code",
   "execution_count": null,
   "metadata": {},
   "outputs": [],
   "source": []
  },
  {
   "cell_type": "code",
   "execution_count": null,
   "metadata": {},
   "outputs": [],
   "source": []
  },
  {
   "cell_type": "code",
   "execution_count": null,
   "metadata": {},
   "outputs": [],
   "source": []
  },
  {
   "cell_type": "code",
   "execution_count": null,
   "metadata": {},
   "outputs": [],
   "source": []
  }
 ],
 "metadata": {
  "kernelspec": {
   "display_name": "PyCharm (Report3_tedtalk_project)",
   "language": "python",
   "name": "pycharm-15d11b97"
  },
  "language_info": {
   "codemirror_mode": {
    "name": "ipython",
    "version": 3
   },
   "file_extension": ".py",
   "mimetype": "text/x-python",
   "name": "python",
   "nbconvert_exporter": "python",
   "pygments_lexer": "ipython3",
   "version": "3.8.5"
  }
 },
 "nbformat": 4,
 "nbformat_minor": 4
}
