{
 "cells": [
  {
   "cell_type": "markdown",
   "metadata": {},
   "source": [
    "# Find and Visualize the best hyperparameter values for the shallow neural network"
   ]
  },
  {
   "cell_type": "code",
   "execution_count": 3,
   "metadata": {},
   "outputs": [],
   "source": [
    "# First we load all the libraries\n",
    "import pandas as pd\n"
   ]
  },
  {
   "cell_type": "code",
   "execution_count": 6,
   "metadata": {},
   "outputs": [
    {
     "name": "stdout",
     "output_type": "stream",
     "text": [
      "(864, 23)\n",
      "   Unnamed: 0  model_num optimizer loss_fn activation_fn output_activation_fn  \\\n",
      "0           0        0.0     nadam     mse          relu                 relu   \n",
      "1           1        1.0     nadam     mse          relu                 relu   \n",
      "2           2        2.0     nadam     mse          relu                 relu   \n",
      "3           3        3.0     nadam     mse          relu                 relu   \n",
      "4           4        4.0     nadam     mse          relu                 relu   \n",
      "\n",
      "   epochs  batch_size  neurons_in_inputlayer  num_hiddenlayer  ...  \\\n",
      "0    50.0         1.0                    1.0              1.0  ...   \n",
      "1    50.0         1.0                    1.0              1.0  ...   \n",
      "2    50.0         1.0                    1.0              1.0  ...   \n",
      "3    50.0         1.0                    5.0              1.0  ...   \n",
      "4    50.0         1.0                    5.0              1.0  ...   \n",
      "\n",
      "       mse_test     mae_test   mape_test  cosine_similarity_test  \\\n",
      "0  4.781299e+12  1556715.875  100.000000                     0.0   \n",
      "1  7.620991e+11   567907.625   53.810585                     1.0   \n",
      "2  4.781299e+12  1556715.875  100.000000                     0.0   \n",
      "3  6.975264e+11   527078.250   45.899837                     1.0   \n",
      "4  4.781299e+12  1556715.875  100.000000                     0.0   \n",
      "\n",
      "      rmse_test   msle_test  validation_split  input_dimensions      corr  \\\n",
      "0  2.186618e+06  195.806717               0.2              28.0  0.528903   \n",
      "1  8.729829e+05    0.269655               0.2              28.0  0.528903   \n",
      "2  2.186618e+06  195.806717               0.2              28.0  0.528903   \n",
      "3  8.351804e+05    0.231135               0.2              28.0  0.528903   \n",
      "4  2.186618e+06  195.806717               0.2              28.0  0.528903   \n",
      "\n",
      "            total_runtime  \n",
      "0  0 days 11:38:05.659393  \n",
      "1  0 days 11:38:05.659393  \n",
      "2  0 days 11:38:05.659393  \n",
      "3  0 days 11:38:05.659393  \n",
      "4  0 days 11:38:05.659393  \n",
      "\n",
      "[5 rows x 23 columns]\n"
     ]
    }
   ],
   "source": [
    "# We load the data\n",
    "\n",
    "msnn = pd.read_csv(\"Experimental_results/Experiment5_MultivariableShallowNN_HyperparamSearchResults.csv\")\n",
    "print(msnn.shape)\n",
    "print(msnn.head())"
   ]
  },
  {
   "cell_type": "code",
   "execution_count": null,
   "metadata": {},
   "outputs": [],
   "source": []
  },
  {
   "cell_type": "code",
   "execution_count": null,
   "metadata": {},
   "outputs": [],
   "source": []
  },
  {
   "cell_type": "code",
   "execution_count": null,
   "metadata": {},
   "outputs": [],
   "source": []
  },
  {
   "cell_type": "code",
   "execution_count": null,
   "metadata": {},
   "outputs": [],
   "source": []
  },
  {
   "cell_type": "code",
   "execution_count": null,
   "metadata": {},
   "outputs": [],
   "source": []
  },
  {
   "cell_type": "code",
   "execution_count": null,
   "metadata": {},
   "outputs": [],
   "source": []
  },
  {
   "cell_type": "code",
   "execution_count": null,
   "metadata": {},
   "outputs": [],
   "source": []
  },
  {
   "cell_type": "code",
   "execution_count": null,
   "metadata": {},
   "outputs": [],
   "source": []
  },
  {
   "cell_type": "code",
   "execution_count": null,
   "metadata": {},
   "outputs": [],
   "source": []
  },
  {
   "cell_type": "code",
   "execution_count": null,
   "metadata": {},
   "outputs": [],
   "source": []
  },
  {
   "cell_type": "code",
   "execution_count": null,
   "metadata": {},
   "outputs": [],
   "source": []
  }
 ],
 "metadata": {
  "kernelspec": {
   "display_name": "Python 3",
   "language": "python",
   "name": "python3"
  },
  "language_info": {
   "codemirror_mode": {
    "name": "ipython",
    "version": 3
   },
   "file_extension": ".py",
   "mimetype": "text/x-python",
   "name": "python",
   "nbconvert_exporter": "python",
   "pygments_lexer": "ipython3",
   "version": "3.8.5"
  }
 },
 "nbformat": 4,
 "nbformat_minor": 4
}
